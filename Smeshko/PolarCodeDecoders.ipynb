{
 "cells": [
  {
   "cell_type": "code",
   "execution_count": 1,
   "metadata": {},
   "outputs": [],
   "source": [
    "import pandas as pd\n",
    "import numpy as np"
   ]
  },
  {
   "cell_type": "code",
   "execution_count": 2,
   "metadata": {},
   "outputs": [],
   "source": [
    "rank = pd.read_csv('rank.csv', sep = ' ', index_col=0)"
   ]
  },
  {
   "cell_type": "code",
   "execution_count": 3,
   "metadata": {},
   "outputs": [],
   "source": [
    "rank = rank.Q.values"
   ]
  },
  {
   "cell_type": "code",
   "execution_count": 299,
   "metadata": {
    "scrolled": true
   },
   "outputs": [
    {
     "name": "stdout",
     "output_type": "stream",
     "text": [
      "Successive Cancellation 0.0 with FER 0.8055555555555556\n",
      "Successive Cancellation List 0.0 with FER 0.5555555555555556\n",
      "Successive Cancellation Stack 0.0 with FER 0.5555555555555556\n",
      "Successive Cancellation 0.2 with FER 0.8529411764705882\n",
      "Successive Cancellation List 0.2 with FER 0.5882352941176471\n",
      "Successive Cancellation Stack 0.2 with FER 0.5882352941176471\n",
      "Successive Cancellation 0.4 with FER 0.6875\n",
      "Successive Cancellation List 0.4 with FER 0.4166666666666667\n",
      "Successive Cancellation Stack 0.4 with FER 0.4166666666666667\n",
      "Successive Cancellation 0.6 with FER 0.6140350877192983\n",
      "Successive Cancellation List 0.6 with FER 0.3508771929824561\n",
      "Successive Cancellation Stack 0.6 with FER 0.3508771929824561\n",
      "Successive Cancellation 0.8 with FER 0.5405405405405406\n",
      "Successive Cancellation List 0.8 with FER 0.2702702702702703\n",
      "Successive Cancellation Stack 0.8 with FER 0.2702702702702703\n",
      "Successive Cancellation 1.0 with FER 0.5066666666666667\n",
      "Successive Cancellation List 1.0 with FER 0.26666666666666666\n",
      "Successive Cancellation Stack 1.0 with FER 0.26666666666666666\n",
      "Successive Cancellation 1.2 with FER 0.32407407407407407\n",
      "Successive Cancellation List 1.2 with FER 0.18518518518518517\n",
      "Successive Cancellation Stack 1.2 with FER 0.18518518518518517\n",
      "Successive Cancellation 1.4 with FER 0.27624309392265195\n",
      "Successive Cancellation List 1.4 with FER 0.11049723756906077\n",
      "Successive Cancellation Stack 1.4 with FER 0.11049723756906077\n",
      "Successive Cancellation 1.6 with FER 0.3188405797101449\n",
      "Successive Cancellation List 1.6 with FER 0.14492753623188406\n",
      "Successive Cancellation Stack 1.6 with FER 0.14492753623188406\n",
      "Successive Cancellation 1.8 with FER 0.19008264462809918\n",
      "Successive Cancellation List 1.8 with FER 0.05509641873278237\n",
      "Successive Cancellation Stack 1.8 with FER 0.05509641873278237\n",
      "Successive Cancellation 2.0 with FER 0.15932203389830507\n",
      "Successive Cancellation List 2.0 with FER 0.06779661016949153\n",
      "Successive Cancellation Stack 2.0 with FER 0.06779661016949153\n",
      "Successive Cancellation 2.2 with FER 0.1232876712328767\n",
      "Successive Cancellation List 2.2 with FER 0.0547945205479452\n",
      "Successive Cancellation Stack 2.2 with FER 0.0547945205479452\n",
      "Successive Cancellation 2.4 with FER 0.06639566395663957\n",
      "Successive Cancellation List 2.4 with FER 0.02710027100271003\n",
      "Successive Cancellation Stack 2.4 with FER 0.02710027100271003\n",
      "Successive Cancellation 2.6 with FER 0.04852320675105485\n",
      "Successive Cancellation List 2.6 with FER 0.02109704641350211\n",
      "Successive Cancellation Stack 2.6 with FER 0.02109704641350211\n",
      "Successive Cancellation 2.8 with FER 0.030054644808743168\n",
      "Successive Cancellation List 2.8 with FER 0.01366120218579235\n",
      "Successive Cancellation Stack 2.8 with FER 0.01366120218579235\n",
      "Successive Cancellation 3.0 with FER 0.019865067466266866\n",
      "Successive Cancellation List 3.0 with FER 0.0074962518740629685\n",
      "Successive Cancellation Stack 3.0 with FER 0.0074962518740629685\n",
      "Successive Cancellation 3.2 with FER 0.017413856984068173\n",
      "Successive Cancellation List 3.2 with FER 0.007410151908114116\n",
      "Successive Cancellation Stack 3.2 with FER 0.007410151908114116\n",
      "Successive Cancellation 3.4 with FER 0.007599537419461424\n",
      "Successive Cancellation List 3.4 with FER 0.0033041467041136628\n",
      "Successive Cancellation Stack 3.4 with FER 0.0033041467041136628\n",
      "Successive Cancellation 3.6 with FER 0.00519862677783227\n",
      "Successive Cancellation List 3.6 with FER 0.00196174595389897\n",
      "Successive Cancellation Stack 3.6 with FER 0.00196174595389897\n",
      "Successive Cancellation 3.8 with FER 0.0033400133600534404\n",
      "Successive Cancellation List 3.8 with FER 0.0014844503822459734\n",
      "Successive Cancellation Stack 3.8 with FER 0.0014844503822459734\n",
      "Successive Cancellation 4.0 with FER 0.002086078173034695\n",
      "Successive Cancellation List 4.0 with FER 0.0010979358805445762\n",
      "Successive Cancellation Stack 4.0 with FER 0.0010979358805445762\n",
      "Successive Cancellation 4.2 with FER 0.0010056507997318264\n",
      "Successive Cancellation List 4.2 with FER 0.00047888133320563166\n",
      "Successive Cancellation Stack 4.2 with FER 0.00047888133320563166\n"
     ]
    },
    {
     "ename": "KeyboardInterrupt",
     "evalue": "",
     "output_type": "error",
     "traceback": [
      "\u001b[0;31m---------------------------------------------------------------------------\u001b[0m",
      "\u001b[0;31mKeyboardInterrupt\u001b[0m                         Traceback (most recent call last)",
      "\u001b[0;32m<ipython-input-299-ae4784858a84>\u001b[0m in \u001b[0;36m<module>\u001b[0;34m\u001b[0m\n\u001b[1;32m     28\u001b[0m         \u001b[0mu_scstack\u001b[0m \u001b[0;34m=\u001b[0m \u001b[0mstack_structure\u001b[0m\u001b[0;34m.\u001b[0m\u001b[0mmetrics_sequences\u001b[0m\u001b[0;34m[\u001b[0m\u001b[0;36m0\u001b[0m\u001b[0;34m]\u001b[0m\u001b[0;34m[\u001b[0m\u001b[0;36m2\u001b[0m\u001b[0;34m]\u001b[0m\u001b[0;34m\u001b[0m\u001b[0;34m\u001b[0m\u001b[0m\n\u001b[1;32m     29\u001b[0m         \u001b[0mlist_decode\u001b[0m \u001b[0;34m=\u001b[0m \u001b[0mStructureForList\u001b[0m\u001b[0;34m(\u001b[0m\u001b[0mL\u001b[0m\u001b[0;34m,\u001b[0m \u001b[0mllrs\u001b[0m\u001b[0;34m)\u001b[0m\u001b[0;34m\u001b[0m\u001b[0;34m\u001b[0m\u001b[0m\n\u001b[0;32m---> 30\u001b[0;31m         \u001b[0mpolar_decode_sclist\u001b[0m\u001b[0;34m(\u001b[0m\u001b[0mfrozen_ind\u001b[0m\u001b[0;34m)\u001b[0m\u001b[0;34m\u001b[0m\u001b[0;34m\u001b[0m\u001b[0m\n\u001b[0m\u001b[1;32m     31\u001b[0m         \u001b[0mu_sclist\u001b[0m \u001b[0;34m=\u001b[0m \u001b[0mlist_decode\u001b[0m\u001b[0;34m.\u001b[0m\u001b[0mmetrics_sequences\u001b[0m\u001b[0;34m[\u001b[0m\u001b[0;36m0\u001b[0m\u001b[0;34m]\u001b[0m\u001b[0;34m[\u001b[0m\u001b[0;36m1\u001b[0m\u001b[0;34m]\u001b[0m\u001b[0;34m\u001b[0m\u001b[0;34m\u001b[0m\u001b[0m\n\u001b[1;32m     32\u001b[0m \u001b[0;34m\u001b[0m\u001b[0m\n",
      "\u001b[0;32m<ipython-input-202-e25577cc2dd9>\u001b[0m in \u001b[0;36mpolar_decode_sclist\u001b[0;34m(F)\u001b[0m\n\u001b[1;32m     24\u001b[0m \u001b[0;31m#         print('1', list_decode.metrics_sequences)\u001b[0m\u001b[0;34m\u001b[0m\u001b[0;34m\u001b[0m\u001b[0;34m\u001b[0m\u001b[0m\n\u001b[1;32m     25\u001b[0m \u001b[0;34m\u001b[0m\u001b[0m\n\u001b[0;32m---> 26\u001b[0;31m         \u001b[0mpolar_decode_sclist\u001b[0m\u001b[0;34m(\u001b[0m\u001b[0mF\u001b[0m\u001b[0;34m[\u001b[0m\u001b[0;34m:\u001b[0m\u001b[0mint\u001b[0m\u001b[0;34m(\u001b[0m\u001b[0mN\u001b[0m\u001b[0;34m/\u001b[0m\u001b[0;36m2\u001b[0m\u001b[0;34m)\u001b[0m\u001b[0;34m]\u001b[0m\u001b[0;34m)\u001b[0m\u001b[0;34m\u001b[0m\u001b[0;34m\u001b[0m\u001b[0m\n\u001b[0m\u001b[1;32m     27\u001b[0m         \u001b[0mlist_decode\u001b[0m\u001b[0;34m.\u001b[0m\u001b[0mpop_llr\u001b[0m\u001b[0;34m(\u001b[0m\u001b[0;34m)\u001b[0m\u001b[0;34m\u001b[0m\u001b[0;34m\u001b[0m\u001b[0m\n\u001b[1;32m     28\u001b[0m \u001b[0;34m\u001b[0m\u001b[0m\n",
      "\u001b[0;32m<ipython-input-202-e25577cc2dd9>\u001b[0m in \u001b[0;36mpolar_decode_sclist\u001b[0;34m(F)\u001b[0m\n\u001b[1;32m     30\u001b[0m \u001b[0;34m\u001b[0m\u001b[0m\n\u001b[1;32m     31\u001b[0m         \u001b[0mlist_decode\u001b[0m\u001b[0;34m.\u001b[0m\u001b[0mupdate_llr\u001b[0m\u001b[0;34m(\u001b[0m\u001b[0;34m'right'\u001b[0m\u001b[0;34m,\u001b[0m \u001b[0mdepth\u001b[0m\u001b[0;34m=\u001b[0m\u001b[0mN\u001b[0m\u001b[0;34m//\u001b[0m\u001b[0;36m2\u001b[0m\u001b[0;34m)\u001b[0m\u001b[0;34m\u001b[0m\u001b[0;34m\u001b[0m\u001b[0m\n\u001b[0;32m---> 32\u001b[0;31m         \u001b[0mpolar_decode_sclist\u001b[0m\u001b[0;34m(\u001b[0m\u001b[0mF\u001b[0m\u001b[0;34m[\u001b[0m\u001b[0mint\u001b[0m\u001b[0;34m(\u001b[0m\u001b[0mN\u001b[0m\u001b[0;34m/\u001b[0m\u001b[0;36m2\u001b[0m\u001b[0;34m)\u001b[0m\u001b[0;34m:\u001b[0m\u001b[0;34m]\u001b[0m\u001b[0;34m)\u001b[0m\u001b[0;34m\u001b[0m\u001b[0;34m\u001b[0m\u001b[0m\n\u001b[0m\u001b[1;32m     33\u001b[0m \u001b[0;31m#         print('3-0', list_decode.metrics_sequences)\u001b[0m\u001b[0;34m\u001b[0m\u001b[0;34m\u001b[0m\u001b[0;34m\u001b[0m\u001b[0m\n\u001b[1;32m     34\u001b[0m         \u001b[0mlist_decode\u001b[0m\u001b[0;34m.\u001b[0m\u001b[0mpop_llr\u001b[0m\u001b[0;34m(\u001b[0m\u001b[0;34m)\u001b[0m\u001b[0;34m\u001b[0m\u001b[0;34m\u001b[0m\u001b[0m\n",
      "\u001b[0;32m<ipython-input-202-e25577cc2dd9>\u001b[0m in \u001b[0;36mpolar_decode_sclist\u001b[0;34m(F)\u001b[0m\n\u001b[1;32m     30\u001b[0m \u001b[0;34m\u001b[0m\u001b[0m\n\u001b[1;32m     31\u001b[0m         \u001b[0mlist_decode\u001b[0m\u001b[0;34m.\u001b[0m\u001b[0mupdate_llr\u001b[0m\u001b[0;34m(\u001b[0m\u001b[0;34m'right'\u001b[0m\u001b[0;34m,\u001b[0m \u001b[0mdepth\u001b[0m\u001b[0;34m=\u001b[0m\u001b[0mN\u001b[0m\u001b[0;34m//\u001b[0m\u001b[0;36m2\u001b[0m\u001b[0;34m)\u001b[0m\u001b[0;34m\u001b[0m\u001b[0;34m\u001b[0m\u001b[0m\n\u001b[0;32m---> 32\u001b[0;31m         \u001b[0mpolar_decode_sclist\u001b[0m\u001b[0;34m(\u001b[0m\u001b[0mF\u001b[0m\u001b[0;34m[\u001b[0m\u001b[0mint\u001b[0m\u001b[0;34m(\u001b[0m\u001b[0mN\u001b[0m\u001b[0;34m/\u001b[0m\u001b[0;36m2\u001b[0m\u001b[0;34m)\u001b[0m\u001b[0;34m:\u001b[0m\u001b[0;34m]\u001b[0m\u001b[0;34m)\u001b[0m\u001b[0;34m\u001b[0m\u001b[0;34m\u001b[0m\u001b[0m\n\u001b[0m\u001b[1;32m     33\u001b[0m \u001b[0;31m#         print('3-0', list_decode.metrics_sequences)\u001b[0m\u001b[0;34m\u001b[0m\u001b[0;34m\u001b[0m\u001b[0;34m\u001b[0m\u001b[0m\n\u001b[1;32m     34\u001b[0m         \u001b[0mlist_decode\u001b[0m\u001b[0;34m.\u001b[0m\u001b[0mpop_llr\u001b[0m\u001b[0;34m(\u001b[0m\u001b[0;34m)\u001b[0m\u001b[0;34m\u001b[0m\u001b[0;34m\u001b[0m\u001b[0m\n",
      "\u001b[0;32m<ipython-input-202-e25577cc2dd9>\u001b[0m in \u001b[0;36mpolar_decode_sclist\u001b[0;34m(F)\u001b[0m\n\u001b[1;32m     24\u001b[0m \u001b[0;31m#         print('1', list_decode.metrics_sequences)\u001b[0m\u001b[0;34m\u001b[0m\u001b[0;34m\u001b[0m\u001b[0;34m\u001b[0m\u001b[0m\n\u001b[1;32m     25\u001b[0m \u001b[0;34m\u001b[0m\u001b[0m\n\u001b[0;32m---> 26\u001b[0;31m         \u001b[0mpolar_decode_sclist\u001b[0m\u001b[0;34m(\u001b[0m\u001b[0mF\u001b[0m\u001b[0;34m[\u001b[0m\u001b[0;34m:\u001b[0m\u001b[0mint\u001b[0m\u001b[0;34m(\u001b[0m\u001b[0mN\u001b[0m\u001b[0;34m/\u001b[0m\u001b[0;36m2\u001b[0m\u001b[0;34m)\u001b[0m\u001b[0;34m]\u001b[0m\u001b[0;34m)\u001b[0m\u001b[0;34m\u001b[0m\u001b[0;34m\u001b[0m\u001b[0m\n\u001b[0m\u001b[1;32m     27\u001b[0m         \u001b[0mlist_decode\u001b[0m\u001b[0;34m.\u001b[0m\u001b[0mpop_llr\u001b[0m\u001b[0;34m(\u001b[0m\u001b[0;34m)\u001b[0m\u001b[0;34m\u001b[0m\u001b[0;34m\u001b[0m\u001b[0m\n\u001b[1;32m     28\u001b[0m \u001b[0;34m\u001b[0m\u001b[0m\n",
      "\u001b[0;32m<ipython-input-202-e25577cc2dd9>\u001b[0m in \u001b[0;36mpolar_decode_sclist\u001b[0;34m(F)\u001b[0m\n\u001b[1;32m     30\u001b[0m \u001b[0;34m\u001b[0m\u001b[0m\n\u001b[1;32m     31\u001b[0m         \u001b[0mlist_decode\u001b[0m\u001b[0;34m.\u001b[0m\u001b[0mupdate_llr\u001b[0m\u001b[0;34m(\u001b[0m\u001b[0;34m'right'\u001b[0m\u001b[0;34m,\u001b[0m \u001b[0mdepth\u001b[0m\u001b[0;34m=\u001b[0m\u001b[0mN\u001b[0m\u001b[0;34m//\u001b[0m\u001b[0;36m2\u001b[0m\u001b[0;34m)\u001b[0m\u001b[0;34m\u001b[0m\u001b[0;34m\u001b[0m\u001b[0m\n\u001b[0;32m---> 32\u001b[0;31m         \u001b[0mpolar_decode_sclist\u001b[0m\u001b[0;34m(\u001b[0m\u001b[0mF\u001b[0m\u001b[0;34m[\u001b[0m\u001b[0mint\u001b[0m\u001b[0;34m(\u001b[0m\u001b[0mN\u001b[0m\u001b[0;34m/\u001b[0m\u001b[0;36m2\u001b[0m\u001b[0;34m)\u001b[0m\u001b[0;34m:\u001b[0m\u001b[0;34m]\u001b[0m\u001b[0;34m)\u001b[0m\u001b[0;34m\u001b[0m\u001b[0;34m\u001b[0m\u001b[0m\n\u001b[0m\u001b[1;32m     33\u001b[0m \u001b[0;31m#         print('3-0', list_decode.metrics_sequences)\u001b[0m\u001b[0;34m\u001b[0m\u001b[0;34m\u001b[0m\u001b[0;34m\u001b[0m\u001b[0m\n\u001b[1;32m     34\u001b[0m         \u001b[0mlist_decode\u001b[0m\u001b[0;34m.\u001b[0m\u001b[0mpop_llr\u001b[0m\u001b[0;34m(\u001b[0m\u001b[0;34m)\u001b[0m\u001b[0;34m\u001b[0m\u001b[0;34m\u001b[0m\u001b[0m\n",
      "\u001b[0;32m<ipython-input-202-e25577cc2dd9>\u001b[0m in \u001b[0;36mpolar_decode_sclist\u001b[0;34m(F)\u001b[0m\n\u001b[1;32m     24\u001b[0m \u001b[0;31m#         print('1', list_decode.metrics_sequences)\u001b[0m\u001b[0;34m\u001b[0m\u001b[0;34m\u001b[0m\u001b[0;34m\u001b[0m\u001b[0m\n\u001b[1;32m     25\u001b[0m \u001b[0;34m\u001b[0m\u001b[0m\n\u001b[0;32m---> 26\u001b[0;31m         \u001b[0mpolar_decode_sclist\u001b[0m\u001b[0;34m(\u001b[0m\u001b[0mF\u001b[0m\u001b[0;34m[\u001b[0m\u001b[0;34m:\u001b[0m\u001b[0mint\u001b[0m\u001b[0;34m(\u001b[0m\u001b[0mN\u001b[0m\u001b[0;34m/\u001b[0m\u001b[0;36m2\u001b[0m\u001b[0;34m)\u001b[0m\u001b[0;34m]\u001b[0m\u001b[0;34m)\u001b[0m\u001b[0;34m\u001b[0m\u001b[0;34m\u001b[0m\u001b[0m\n\u001b[0m\u001b[1;32m     27\u001b[0m         \u001b[0mlist_decode\u001b[0m\u001b[0;34m.\u001b[0m\u001b[0mpop_llr\u001b[0m\u001b[0;34m(\u001b[0m\u001b[0;34m)\u001b[0m\u001b[0;34m\u001b[0m\u001b[0;34m\u001b[0m\u001b[0m\n\u001b[1;32m     28\u001b[0m \u001b[0;34m\u001b[0m\u001b[0m\n",
      "\u001b[0;32m<ipython-input-202-e25577cc2dd9>\u001b[0m in \u001b[0;36mpolar_decode_sclist\u001b[0;34m(F)\u001b[0m\n\u001b[1;32m      6\u001b[0m \u001b[0;31m#         print(\"in N=2 left \", list_decode.metrics_sequences)\u001b[0m\u001b[0;34m\u001b[0m\u001b[0;34m\u001b[0m\u001b[0;34m\u001b[0m\u001b[0m\n\u001b[1;32m      7\u001b[0m         \u001b[0;32mfor\u001b[0m \u001b[0mi\u001b[0m \u001b[0;32min\u001b[0m \u001b[0mrange\u001b[0m\u001b[0;34m(\u001b[0m\u001b[0mL\u001b[0m\u001b[0;34m)\u001b[0m\u001b[0;34m:\u001b[0m\u001b[0;34m\u001b[0m\u001b[0;34m\u001b[0m\u001b[0m\n\u001b[0;32m----> 8\u001b[0;31m             \u001b[0mlist_decode\u001b[0m\u001b[0;34m.\u001b[0m\u001b[0madd_left\u001b[0m\u001b[0;34m(\u001b[0m\u001b[0mF\u001b[0m\u001b[0;34m[\u001b[0m\u001b[0;36m0\u001b[0m\u001b[0;34m]\u001b[0m\u001b[0;34m)\u001b[0m\u001b[0;34m\u001b[0m\u001b[0;34m\u001b[0m\u001b[0m\n\u001b[0m\u001b[1;32m      9\u001b[0m         \u001b[0mlist_decode\u001b[0m\u001b[0;34m.\u001b[0m\u001b[0mupdate\u001b[0m\u001b[0;34m(\u001b[0m\u001b[0;34m)\u001b[0m\u001b[0;34m\u001b[0m\u001b[0;34m\u001b[0m\u001b[0m\n\u001b[1;32m     10\u001b[0m         \u001b[0mlist_decode\u001b[0m\u001b[0;34m.\u001b[0m\u001b[0mpop_llr\u001b[0m\u001b[0;34m(\u001b[0m\u001b[0;34m)\u001b[0m\u001b[0;34m\u001b[0m\u001b[0;34m\u001b[0m\u001b[0m\n",
      "\u001b[0;32m<ipython-input-242-1b5241e9c0d4>\u001b[0m in \u001b[0;36madd_left\u001b[0;34m(self, F)\u001b[0m\n\u001b[1;32m     19\u001b[0m             \u001b[0mu\u001b[0m \u001b[0;34m=\u001b[0m \u001b[0mu_old\u001b[0m\u001b[0;34m.\u001b[0m\u001b[0mcopy\u001b[0m\u001b[0;34m(\u001b[0m\u001b[0;34m)\u001b[0m\u001b[0;34m\u001b[0m\u001b[0;34m\u001b[0m\u001b[0m\n\u001b[1;32m     20\u001b[0m             \u001b[0mu\u001b[0m\u001b[0;34m.\u001b[0m\u001b[0mappend\u001b[0m\u001b[0;34m(\u001b[0m\u001b[0mbit\u001b[0m\u001b[0;34m)\u001b[0m\u001b[0;34m\u001b[0m\u001b[0;34m\u001b[0m\u001b[0m\n\u001b[0;32m---> 21\u001b[0;31m             \u001b[0mx1\u001b[0m \u001b[0;34m=\u001b[0m \u001b[0mnp\u001b[0m\u001b[0;34m.\u001b[0m\u001b[0mconcatenate\u001b[0m\u001b[0;34m(\u001b[0m\u001b[0;34m(\u001b[0m\u001b[0mx\u001b[0m\u001b[0;34m,\u001b[0m  \u001b[0;34m[\u001b[0m\u001b[0mbit\u001b[0m\u001b[0;34m]\u001b[0m\u001b[0;34m)\u001b[0m\u001b[0;34m)\u001b[0m\u001b[0;34m\u001b[0m\u001b[0;34m\u001b[0m\u001b[0m\n\u001b[0m\u001b[1;32m     22\u001b[0m             \u001b[0mself\u001b[0m\u001b[0;34m.\u001b[0m\u001b[0mmetrics_sequences\u001b[0m\u001b[0;34m.\u001b[0m\u001b[0mappend\u001b[0m\u001b[0;34m(\u001b[0m\u001b[0;34m[\u001b[0m\u001b[0mmetric_old\u001b[0m\u001b[0;34m+\u001b[0m\u001b[0mmetric\u001b[0m\u001b[0;34m,\u001b[0m \u001b[0mu\u001b[0m\u001b[0;34m,\u001b[0m \u001b[0mllr\u001b[0m\u001b[0;34m.\u001b[0m\u001b[0mcopy\u001b[0m\u001b[0;34m(\u001b[0m\u001b[0;34m)\u001b[0m\u001b[0;34m,\u001b[0m \u001b[0mx1\u001b[0m\u001b[0;34m]\u001b[0m\u001b[0;34m)\u001b[0m\u001b[0;34m\u001b[0m\u001b[0;34m\u001b[0m\u001b[0m\n\u001b[1;32m     23\u001b[0m \u001b[0;31m#         self.ind += 1\u001b[0m\u001b[0;34m\u001b[0m\u001b[0;34m\u001b[0m\u001b[0;34m\u001b[0m\u001b[0m\n",
      "\u001b[0;32m<__array_function__ internals>\u001b[0m in \u001b[0;36mconcatenate\u001b[0;34m(*args, **kwargs)\u001b[0m\n",
      "\u001b[0;31mKeyboardInterrupt\u001b[0m: "
     ]
    }
   ],
   "source": [
    "#without CRC\n",
    "n = 7\n",
    "N = 2**n\n",
    "K = 2**(n-1)\n",
    "frozen_ind = np.zeros(N)\n",
    "frozen_ind[rank[rank<N][:N-K]] = 1\n",
    "EbNoArray = np.arange(0, 5, 0.2)\n",
    "fe = 20\n",
    "L = 8\n",
    "D = L * N // 2\n",
    "for EbNo in EbNoArray:\n",
    "    noiseVar = 10**(-EbNo/10)\n",
    "    f_sc1 = 0\n",
    "    f_sclist = 0\n",
    "    f_scstack = 0\n",
    "    Itr = 0\n",
    "    while min(f_sc1, f_sclist, f_scstack) < fe:\n",
    "        u_K = np.random.randint(0, 2, size=K)\n",
    "        [x, u] = polar_encode(u_K, frozen_ind, N)\n",
    "        x_bpsk = 2 * x - 1\n",
    "        rc_bpsk = x_bpsk + np.random.normal(0, np.sqrt(noiseVar), N)\n",
    "        llrs = -4 * rc_bpsk / noiseVar\n",
    "        u_sc1, out_llr, x_sc = polar_decode_sc1(llrs, frozen_ind, [])\n",
    "        stack_structure = polar_decode_scs(n, L, D, llrs, frozen_ind)\n",
    "        u_scstack = stack_structure.metrics_sequences[0][2]\n",
    "        list_decode = StructureForList(L, llrs)\n",
    "        polar_decode_sclist(frozen_ind)\n",
    "        u_sclist = list_decode.metrics_sequences[0][1]\n",
    "\n",
    "        a = u == u_sc1\n",
    "        if a.sum() != N:\n",
    "            f_sc1 += 1\n",
    "        \n",
    "        a = u == u_sclist\n",
    "        if a.sum() != N:\n",
    "            f_sclist += 1\n",
    "            \n",
    "        a = u == u_scstack\n",
    "        if a.sum() != N:\n",
    "            f_scstack += 1\n",
    "        \n",
    "        Itr += 1\n",
    "\n",
    "    print(f'Successive Cancellation {round(EbNo, ndigits=2)} with FER {f_sc1/Itr}')\n",
    "    print(f'Successive Cancellation List {round(EbNo, ndigits=2)} with FER {f_sclist/Itr}')\n",
    "    print(f'Successive Cancellation Stack {round(EbNo, ndigits=2)} with FER {f_scstack/Itr}')"
   ]
  },
  {
   "cell_type": "code",
   "execution_count": 21,
   "metadata": {},
   "outputs": [
    {
     "name": "stdout",
     "output_type": "stream",
     "text": [
      "Successive Cancellation 0.0 with FER 0.855, 200\n",
      "Successive Cancellation List 0.0 with FER 0.665\n",
      "Successive Cancellation Stack 0.0 with FER 0.665\n",
      "Successive Cancellation 0.2 with FER 0.85, 200\n",
      "Successive Cancellation List 0.2 with FER 0.6\n",
      "Successive Cancellation Stack 0.2 with FER 0.6\n",
      "Successive Cancellation 0.4 with FER 0.835, 200\n",
      "Successive Cancellation List 0.4 with FER 0.535\n",
      "Successive Cancellation Stack 0.4 with FER 0.535\n",
      "Successive Cancellation 0.6 with FER 0.75, 200\n",
      "Successive Cancellation List 0.6 with FER 0.405\n",
      "Successive Cancellation Stack 0.6 with FER 0.405\n",
      "Successive Cancellation 0.8 with FER 0.625, 200\n",
      "Successive Cancellation List 0.8 with FER 0.32\n",
      "Successive Cancellation Stack 0.8 with FER 0.32\n",
      "Successive Cancellation 1.0 with FER 0.595, 200\n",
      "Successive Cancellation List 1.0 with FER 0.21\n",
      "Successive Cancellation Stack 1.0 with FER 0.21\n",
      "Successive Cancellation 1.2 with FER 0.425, 200\n",
      "Successive Cancellation List 1.2 with FER 0.17\n",
      "Successive Cancellation Stack 1.2 with FER 0.17\n",
      "Successive Cancellation 1.4 with FER 0.3515625, 256\n",
      "Successive Cancellation List 1.4 with FER 0.078125\n",
      "Successive Cancellation Stack 1.4 with FER 0.078125\n",
      "Successive Cancellation 1.6 with FER 0.35, 200\n",
      "Successive Cancellation List 1.6 with FER 0.1\n",
      "Successive Cancellation Stack 1.6 with FER 0.1\n",
      "Successive Cancellation 1.8 with FER 0.21963824289405684, 387\n",
      "Successive Cancellation List 1.8 with FER 0.05167958656330749\n",
      "Successive Cancellation Stack 1.8 with FER 0.05167958656330749\n",
      "Successive Cancellation 2.0 with FER 0.18298969072164947, 388\n",
      "Successive Cancellation List 2.0 with FER 0.05154639175257732\n",
      "Successive Cancellation Stack 2.0 with FER 0.05154639175257732\n",
      "Successive Cancellation 2.2 with FER 0.12371134020618557, 776\n",
      "Successive Cancellation List 2.2 with FER 0.02577319587628866\n",
      "Successive Cancellation Stack 2.2 with FER 0.02577319587628866\n",
      "Successive Cancellation 2.4 with FER 0.06719022687609075, 2292\n",
      "Successive Cancellation List 2.4 with FER 0.008726003490401396\n",
      "Successive Cancellation Stack 2.4 with FER 0.008726003490401396\n",
      "Successive Cancellation 2.6 with FER 0.03650860260176248, 2383\n",
      "Successive Cancellation List 2.6 with FER 0.00839278220730172\n",
      "Successive Cancellation Stack 2.6 with FER 0.00839278220730172\n",
      "Successive Cancellation 2.8 with FER 0.02875399361022364, 3443\n",
      "Successive Cancellation List 2.8 with FER 0.005808887598024978\n",
      "Successive Cancellation Stack 2.8 with FER 0.005808887598024978\n",
      "Successive Cancellation 3.0 with FER 0.017737848422022577, 4341\n",
      "Successive Cancellation List 3.0 with FER 0.0046072333563695\n",
      "Successive Cancellation Stack 3.0 with FER 0.0046072333563695\n",
      "Successive Cancellation 3.2 with FER 0.008357113738279657, 9812\n",
      "Successive Cancellation List 3.2 with FER 0.0020383204239706482\n",
      "Successive Cancellation Stack 3.2 with FER 0.0020383204239706482\n",
      "Successive Cancellation 3.4 with FER 0.0054186331061003325, 11442\n",
      "Successive Cancellation List 3.4 with FER 0.0017479461632581717\n",
      "Successive Cancellation Stack 3.4 with FER 0.0017479461632581717\n",
      "Successive Cancellation 3.6 with FER 0.003007241929544618, 16294\n",
      "Successive Cancellation List 3.6 with FER 0.0012274456855284155\n",
      "Successive Cancellation Stack 3.6 with FER 0.0012274456855284155\n"
     ]
    },
    {
     "ename": "KeyboardInterrupt",
     "evalue": "",
     "output_type": "error",
     "traceback": [
      "\u001b[0;31m---------------------------------------------------------------------------\u001b[0m",
      "\u001b[0;31mKeyboardInterrupt\u001b[0m                         Traceback (most recent call last)",
      "\u001b[0;32m<ipython-input-21-cc7534e4d87e>\u001b[0m in \u001b[0;36m<module>\u001b[0;34m\u001b[0m\n\u001b[1;32m     22\u001b[0m         \u001b[0mllrs\u001b[0m \u001b[0;34m=\u001b[0m \u001b[0;34m-\u001b[0m\u001b[0;36m4\u001b[0m \u001b[0;34m*\u001b[0m \u001b[0mrc_bpsk\u001b[0m \u001b[0;34m/\u001b[0m \u001b[0mnoiseVar\u001b[0m\u001b[0;34m\u001b[0m\u001b[0;34m\u001b[0m\u001b[0m\n\u001b[1;32m     23\u001b[0m         \u001b[0mu_sc1\u001b[0m\u001b[0;34m,\u001b[0m \u001b[0mout_llr\u001b[0m\u001b[0;34m,\u001b[0m \u001b[0mx_sc\u001b[0m \u001b[0;34m=\u001b[0m \u001b[0mpolar_decode_sc1\u001b[0m\u001b[0;34m(\u001b[0m\u001b[0mllrs\u001b[0m\u001b[0;34m,\u001b[0m \u001b[0mfrozen_ind\u001b[0m\u001b[0;34m,\u001b[0m \u001b[0;34m[\u001b[0m\u001b[0;34m]\u001b[0m\u001b[0;34m)\u001b[0m\u001b[0;34m\u001b[0m\u001b[0;34m\u001b[0m\u001b[0m\n\u001b[0;32m---> 24\u001b[0;31m         \u001b[0mstack_structure\u001b[0m \u001b[0;34m=\u001b[0m \u001b[0mpolar_decode_scs\u001b[0m\u001b[0;34m(\u001b[0m\u001b[0mn\u001b[0m\u001b[0;34m,\u001b[0m \u001b[0mL\u001b[0m\u001b[0;34m,\u001b[0m \u001b[0mD\u001b[0m\u001b[0;34m,\u001b[0m \u001b[0mllrs\u001b[0m\u001b[0;34m,\u001b[0m \u001b[0mfrozen_ind\u001b[0m\u001b[0;34m)\u001b[0m\u001b[0;34m\u001b[0m\u001b[0;34m\u001b[0m\u001b[0m\n\u001b[0m\u001b[1;32m     25\u001b[0m         \u001b[0mu_scstack\u001b[0m \u001b[0;34m=\u001b[0m \u001b[0mstack_structure\u001b[0m\u001b[0;34m.\u001b[0m\u001b[0mmetrics_sequences\u001b[0m\u001b[0;34m[\u001b[0m\u001b[0;36m0\u001b[0m\u001b[0;34m]\u001b[0m\u001b[0;34m[\u001b[0m\u001b[0;36m2\u001b[0m\u001b[0;34m]\u001b[0m\u001b[0;34m\u001b[0m\u001b[0;34m\u001b[0m\u001b[0m\n\u001b[1;32m     26\u001b[0m         \u001b[0mlist_decode\u001b[0m \u001b[0;34m=\u001b[0m \u001b[0mStructureForList\u001b[0m\u001b[0;34m(\u001b[0m\u001b[0mL\u001b[0m\u001b[0;34m,\u001b[0m \u001b[0mllrs\u001b[0m\u001b[0;34m)\u001b[0m\u001b[0;34m\u001b[0m\u001b[0;34m\u001b[0m\u001b[0m\n",
      "\u001b[0;32m<ipython-input-12-718ba50e3ad7>\u001b[0m in \u001b[0;36mpolar_decode_scs\u001b[0;34m(n, L, D, in_llr, F)\u001b[0m\n\u001b[1;32m     14\u001b[0m \u001b[0;34m\u001b[0m\u001b[0m\n\u001b[1;32m     15\u001b[0m     \u001b[0;32mwhile\u001b[0m \u001b[0mpath_length\u001b[0m \u001b[0;34m<\u001b[0m \u001b[0;36m2\u001b[0m\u001b[0;34m**\u001b[0m\u001b[0mn\u001b[0m\u001b[0;34m:\u001b[0m\u001b[0;34m\u001b[0m\u001b[0;34m\u001b[0m\u001b[0m\n\u001b[0;32m---> 16\u001b[0;31m         \u001b[0mstack_decode\u001b[0m\u001b[0;34m.\u001b[0m\u001b[0mcalc_llr\u001b[0m\u001b[0;34m(\u001b[0m\u001b[0;34m)\u001b[0m\u001b[0;34m\u001b[0m\u001b[0;34m\u001b[0m\u001b[0m\n\u001b[0m\u001b[1;32m     17\u001b[0m         \u001b[0mstack_decode\u001b[0m\u001b[0;34m.\u001b[0m\u001b[0madd\u001b[0m\u001b[0;34m(\u001b[0m\u001b[0;34m)\u001b[0m\u001b[0;34m\u001b[0m\u001b[0;34m\u001b[0m\u001b[0m\n\u001b[1;32m     18\u001b[0m \u001b[0;31m#         print('add', stack_decode.metrics_sequences)\u001b[0m\u001b[0;34m\u001b[0m\u001b[0;34m\u001b[0m\u001b[0;34m\u001b[0m\u001b[0m\n",
      "\u001b[0;32m<ipython-input-13-f5129346f54c>\u001b[0m in \u001b[0;36mcalc_llr\u001b[0;34m(self)\u001b[0m\n\u001b[1;32m     61\u001b[0m         \u001b[0mself\u001b[0m\u001b[0;34m.\u001b[0m\u001b[0mupdate_llr_top\u001b[0m\u001b[0;34m(\u001b[0m\u001b[0;34m'right'\u001b[0m\u001b[0;34m,\u001b[0m \u001b[0mdepth\u001b[0m \u001b[0;34m=\u001b[0m \u001b[0;36m2\u001b[0m\u001b[0;34m**\u001b[0m\u001b[0mlayer\u001b[0m\u001b[0;34m)\u001b[0m\u001b[0;34m\u001b[0m\u001b[0;34m\u001b[0m\u001b[0m\n\u001b[1;32m     62\u001b[0m         \u001b[0;32mfor\u001b[0m \u001b[0mi\u001b[0m \u001b[0;32min\u001b[0m \u001b[0mrange\u001b[0m\u001b[0;34m(\u001b[0m\u001b[0mlayer\u001b[0m\u001b[0;34m)\u001b[0m\u001b[0;34m:\u001b[0m\u001b[0;34m\u001b[0m\u001b[0;34m\u001b[0m\u001b[0m\n\u001b[0;32m---> 63\u001b[0;31m             \u001b[0mself\u001b[0m\u001b[0;34m.\u001b[0m\u001b[0mupdate_llr_top\u001b[0m\u001b[0;34m(\u001b[0m\u001b[0;34m'left'\u001b[0m\u001b[0;34m)\u001b[0m\u001b[0;34m\u001b[0m\u001b[0;34m\u001b[0m\u001b[0m\n\u001b[0m\u001b[1;32m     64\u001b[0m \u001b[0;34m\u001b[0m\u001b[0m\n\u001b[1;32m     65\u001b[0m \u001b[0;34m\u001b[0m\u001b[0m\n",
      "\u001b[0;32m<ipython-input-13-f5129346f54c>\u001b[0m in \u001b[0;36mupdate_llr_top\u001b[0;34m(self, l_r, depth)\u001b[0m\n\u001b[1;32m     76\u001b[0m         \u001b[0;32mif\u001b[0m \u001b[0ml_r\u001b[0m \u001b[0;34m==\u001b[0m \u001b[0;34m'left'\u001b[0m\u001b[0;34m:\u001b[0m\u001b[0;34m\u001b[0m\u001b[0;34m\u001b[0m\u001b[0m\n\u001b[1;32m     77\u001b[0m             \u001b[0mllr\u001b[0m \u001b[0;34m=\u001b[0m \u001b[0mself\u001b[0m\u001b[0;34m.\u001b[0m\u001b[0mmetrics_sequences\u001b[0m\u001b[0;34m[\u001b[0m\u001b[0;36m0\u001b[0m\u001b[0;34m]\u001b[0m\u001b[0;34m[\u001b[0m\u001b[0;36m3\u001b[0m\u001b[0;34m]\u001b[0m\u001b[0;34m[\u001b[0m\u001b[0;34m-\u001b[0m\u001b[0;36m1\u001b[0m\u001b[0;34m]\u001b[0m\u001b[0;34m\u001b[0m\u001b[0;34m\u001b[0m\u001b[0m\n\u001b[0;32m---> 78\u001b[0;31m             \u001b[0mself\u001b[0m\u001b[0;34m.\u001b[0m\u001b[0mmetrics_sequences\u001b[0m\u001b[0;34m[\u001b[0m\u001b[0;36m0\u001b[0m\u001b[0;34m]\u001b[0m\u001b[0;34m[\u001b[0m\u001b[0;36m3\u001b[0m\u001b[0;34m]\u001b[0m\u001b[0;34m.\u001b[0m\u001b[0mappend\u001b[0m\u001b[0;34m(\u001b[0m\u001b[0mf_N\u001b[0m\u001b[0;34m(\u001b[0m\u001b[0mllr\u001b[0m\u001b[0;34m)\u001b[0m\u001b[0;34m)\u001b[0m\u001b[0;34m\u001b[0m\u001b[0;34m\u001b[0m\u001b[0m\n\u001b[0m\u001b[1;32m     79\u001b[0m         \u001b[0;32melif\u001b[0m \u001b[0ml_r\u001b[0m \u001b[0;34m==\u001b[0m \u001b[0;34m'right'\u001b[0m\u001b[0;34m:\u001b[0m\u001b[0;34m\u001b[0m\u001b[0;34m\u001b[0m\u001b[0m\n\u001b[1;32m     80\u001b[0m             \u001b[0mllr\u001b[0m \u001b[0;34m=\u001b[0m \u001b[0mself\u001b[0m\u001b[0;34m.\u001b[0m\u001b[0mmetrics_sequences\u001b[0m\u001b[0;34m[\u001b[0m\u001b[0;36m0\u001b[0m\u001b[0;34m]\u001b[0m\u001b[0;34m[\u001b[0m\u001b[0;36m3\u001b[0m\u001b[0;34m]\u001b[0m\u001b[0;34m[\u001b[0m\u001b[0;34m-\u001b[0m\u001b[0;36m1\u001b[0m\u001b[0;34m]\u001b[0m\u001b[0;34m\u001b[0m\u001b[0;34m\u001b[0m\u001b[0m\n",
      "\u001b[0;32m<ipython-input-6-3d8d1332ea4e>\u001b[0m in \u001b[0;36mf_N\u001b[0;34m(llr)\u001b[0m\n\u001b[1;32m     18\u001b[0m     \u001b[0mllr_1\u001b[0m \u001b[0;34m=\u001b[0m \u001b[0mllr\u001b[0m\u001b[0;34m[\u001b[0m\u001b[0;34m:\u001b[0m\u001b[0mint\u001b[0m\u001b[0;34m(\u001b[0m\u001b[0mN\u001b[0m\u001b[0;34m/\u001b[0m\u001b[0;36m2\u001b[0m\u001b[0;34m)\u001b[0m\u001b[0;34m]\u001b[0m\u001b[0;34m\u001b[0m\u001b[0;34m\u001b[0m\u001b[0m\n\u001b[1;32m     19\u001b[0m     \u001b[0mllr_2\u001b[0m \u001b[0;34m=\u001b[0m \u001b[0mllr\u001b[0m\u001b[0;34m[\u001b[0m\u001b[0mint\u001b[0m\u001b[0;34m(\u001b[0m\u001b[0mN\u001b[0m\u001b[0;34m/\u001b[0m\u001b[0;36m2\u001b[0m\u001b[0;34m)\u001b[0m\u001b[0;34m:\u001b[0m\u001b[0;34m]\u001b[0m\u001b[0;34m\u001b[0m\u001b[0;34m\u001b[0m\u001b[0m\n\u001b[0;32m---> 20\u001b[0;31m     \u001b[0;32mreturn\u001b[0m \u001b[0;34m[\u001b[0m\u001b[0mf\u001b[0m\u001b[0;34m(\u001b[0m\u001b[0ma\u001b[0m\u001b[0;34m,\u001b[0m\u001b[0mb\u001b[0m\u001b[0;34m)\u001b[0m \u001b[0;32mfor\u001b[0m \u001b[0ma\u001b[0m\u001b[0;34m,\u001b[0m\u001b[0mb\u001b[0m \u001b[0;32min\u001b[0m \u001b[0mzip\u001b[0m\u001b[0;34m(\u001b[0m\u001b[0mllr_1\u001b[0m\u001b[0;34m,\u001b[0m \u001b[0mllr_2\u001b[0m\u001b[0;34m)\u001b[0m\u001b[0;34m]\u001b[0m \u001b[0;31m# f(llr_1, llr_2) #\u001b[0m\u001b[0;34m\u001b[0m\u001b[0;34m\u001b[0m\u001b[0m\n\u001b[0m\u001b[1;32m     21\u001b[0m \u001b[0;34m\u001b[0m\u001b[0m\n\u001b[1;32m     22\u001b[0m \u001b[0;32mdef\u001b[0m \u001b[0mf_N1\u001b[0m\u001b[0;34m(\u001b[0m\u001b[0mllr\u001b[0m\u001b[0;34m)\u001b[0m\u001b[0;34m:\u001b[0m\u001b[0;34m\u001b[0m\u001b[0;34m\u001b[0m\u001b[0m\n",
      "\u001b[0;32m<ipython-input-6-3d8d1332ea4e>\u001b[0m in \u001b[0;36m<listcomp>\u001b[0;34m(.0)\u001b[0m\n\u001b[1;32m     18\u001b[0m     \u001b[0mllr_1\u001b[0m \u001b[0;34m=\u001b[0m \u001b[0mllr\u001b[0m\u001b[0;34m[\u001b[0m\u001b[0;34m:\u001b[0m\u001b[0mint\u001b[0m\u001b[0;34m(\u001b[0m\u001b[0mN\u001b[0m\u001b[0;34m/\u001b[0m\u001b[0;36m2\u001b[0m\u001b[0;34m)\u001b[0m\u001b[0;34m]\u001b[0m\u001b[0;34m\u001b[0m\u001b[0;34m\u001b[0m\u001b[0m\n\u001b[1;32m     19\u001b[0m     \u001b[0mllr_2\u001b[0m \u001b[0;34m=\u001b[0m \u001b[0mllr\u001b[0m\u001b[0;34m[\u001b[0m\u001b[0mint\u001b[0m\u001b[0;34m(\u001b[0m\u001b[0mN\u001b[0m\u001b[0;34m/\u001b[0m\u001b[0;36m2\u001b[0m\u001b[0;34m)\u001b[0m\u001b[0;34m:\u001b[0m\u001b[0;34m]\u001b[0m\u001b[0;34m\u001b[0m\u001b[0;34m\u001b[0m\u001b[0m\n\u001b[0;32m---> 20\u001b[0;31m     \u001b[0;32mreturn\u001b[0m \u001b[0;34m[\u001b[0m\u001b[0mf\u001b[0m\u001b[0;34m(\u001b[0m\u001b[0ma\u001b[0m\u001b[0;34m,\u001b[0m\u001b[0mb\u001b[0m\u001b[0;34m)\u001b[0m \u001b[0;32mfor\u001b[0m \u001b[0ma\u001b[0m\u001b[0;34m,\u001b[0m\u001b[0mb\u001b[0m \u001b[0;32min\u001b[0m \u001b[0mzip\u001b[0m\u001b[0;34m(\u001b[0m\u001b[0mllr_1\u001b[0m\u001b[0;34m,\u001b[0m \u001b[0mllr_2\u001b[0m\u001b[0;34m)\u001b[0m\u001b[0;34m]\u001b[0m \u001b[0;31m# f(llr_1, llr_2) #\u001b[0m\u001b[0;34m\u001b[0m\u001b[0;34m\u001b[0m\u001b[0m\n\u001b[0m\u001b[1;32m     21\u001b[0m \u001b[0;34m\u001b[0m\u001b[0m\n\u001b[1;32m     22\u001b[0m \u001b[0;32mdef\u001b[0m \u001b[0mf_N1\u001b[0m\u001b[0;34m(\u001b[0m\u001b[0mllr\u001b[0m\u001b[0;34m)\u001b[0m\u001b[0;34m:\u001b[0m\u001b[0;34m\u001b[0m\u001b[0;34m\u001b[0m\u001b[0m\n",
      "\u001b[0;32m<ipython-input-6-3d8d1332ea4e>\u001b[0m in \u001b[0;36mf\u001b[0;34m(a, b)\u001b[0m\n\u001b[1;32m      1\u001b[0m \u001b[0;32mdef\u001b[0m \u001b[0mf\u001b[0m\u001b[0;34m(\u001b[0m\u001b[0ma\u001b[0m\u001b[0;34m,\u001b[0m\u001b[0mb\u001b[0m\u001b[0;34m)\u001b[0m\u001b[0;34m:\u001b[0m\u001b[0;34m\u001b[0m\u001b[0;34m\u001b[0m\u001b[0m\n\u001b[0;32m----> 2\u001b[0;31m     \u001b[0;32mreturn\u001b[0m \u001b[0mnp\u001b[0m\u001b[0;34m.\u001b[0m\u001b[0msign\u001b[0m\u001b[0;34m(\u001b[0m\u001b[0ma\u001b[0m\u001b[0;34m*\u001b[0m\u001b[0mb\u001b[0m\u001b[0;34m)\u001b[0m\u001b[0;34m*\u001b[0m\u001b[0mmin\u001b[0m\u001b[0;34m(\u001b[0m\u001b[0mnp\u001b[0m\u001b[0;34m.\u001b[0m\u001b[0mabs\u001b[0m\u001b[0;34m(\u001b[0m\u001b[0ma\u001b[0m\u001b[0;34m)\u001b[0m\u001b[0;34m,\u001b[0m \u001b[0mnp\u001b[0m\u001b[0;34m.\u001b[0m\u001b[0mabs\u001b[0m\u001b[0;34m(\u001b[0m\u001b[0mb\u001b[0m\u001b[0;34m)\u001b[0m\u001b[0;34m)\u001b[0m \u001b[0;31m# np.min(np.abs(np.stack([a, b])), axis=0)\u001b[0m\u001b[0;34m\u001b[0m\u001b[0;34m\u001b[0m\u001b[0m\n\u001b[0m\u001b[1;32m      3\u001b[0m \u001b[0;34m\u001b[0m\u001b[0m\n\u001b[1;32m      4\u001b[0m \u001b[0;32mdef\u001b[0m \u001b[0mf1\u001b[0m\u001b[0;34m(\u001b[0m\u001b[0ma\u001b[0m\u001b[0;34m,\u001b[0m\u001b[0mb\u001b[0m\u001b[0;34m)\u001b[0m\u001b[0;34m:\u001b[0m\u001b[0;34m\u001b[0m\u001b[0;34m\u001b[0m\u001b[0m\n\u001b[1;32m      5\u001b[0m     \u001b[0;32mreturn\u001b[0m \u001b[0mnp\u001b[0m\u001b[0;34m.\u001b[0m\u001b[0msign\u001b[0m\u001b[0;34m(\u001b[0m\u001b[0ma\u001b[0m\u001b[0;34m*\u001b[0m\u001b[0mb\u001b[0m\u001b[0;34m)\u001b[0m\u001b[0;34m*\u001b[0m\u001b[0mnp\u001b[0m\u001b[0;34m.\u001b[0m\u001b[0mmin\u001b[0m\u001b[0;34m(\u001b[0m\u001b[0mnp\u001b[0m\u001b[0;34m.\u001b[0m\u001b[0mabs\u001b[0m\u001b[0;34m(\u001b[0m\u001b[0mnp\u001b[0m\u001b[0;34m.\u001b[0m\u001b[0mstack\u001b[0m\u001b[0;34m(\u001b[0m\u001b[0;34m[\u001b[0m\u001b[0ma\u001b[0m\u001b[0;34m,\u001b[0m \u001b[0mb\u001b[0m\u001b[0;34m]\u001b[0m\u001b[0;34m)\u001b[0m\u001b[0;34m)\u001b[0m\u001b[0;34m,\u001b[0m \u001b[0maxis\u001b[0m\u001b[0;34m=\u001b[0m\u001b[0;36m0\u001b[0m\u001b[0;34m)\u001b[0m\u001b[0;34m\u001b[0m\u001b[0;34m\u001b[0m\u001b[0m\n",
      "\u001b[0;31mKeyboardInterrupt\u001b[0m: "
     ]
    }
   ],
   "source": [
    "#without CRC\n",
    "n = 8\n",
    "N = 2**n\n",
    "K = 2**(n-1)\n",
    "frozen_ind = np.zeros(N)\n",
    "frozen_ind[rank[rank<N][:N-K]] = 1\n",
    "EbNoArray = np.arange(0, 5, 0.2)\n",
    "fe = 20\n",
    "L = 8\n",
    "D = N\n",
    "for EbNo in EbNoArray:\n",
    "    noiseVar = 10**(-EbNo/10)\n",
    "    f_sc1 = 0\n",
    "    f_sclist = 0\n",
    "    f_scstack = 0\n",
    "    Itr = 0\n",
    "    while min(f_sc1, f_sclist, f_scstack) < fe or Itr < 200:\n",
    "        u_K = np.random.randint(0, 2, size=K)\n",
    "        [x, u] = polar_encode(u_K, frozen_ind, N)\n",
    "        x_bpsk = 2 * x - 1\n",
    "        rc_bpsk = x_bpsk + np.random.normal(0, np.sqrt(noiseVar), N)\n",
    "        llrs = -4 * rc_bpsk / noiseVar\n",
    "        u_sc1, out_llr, x_sc = polar_decode_sc1(llrs, frozen_ind, [])\n",
    "        stack_structure = polar_decode_scs(n, L, D, llrs, frozen_ind)\n",
    "        u_scstack = stack_structure.metrics_sequences[0][2]\n",
    "        list_decode = StructureForList(L, llrs)\n",
    "        polar_decode_sclist(frozen_ind)\n",
    "        u_sclist = list_decode.metrics_sequences[0][1]\n",
    "\n",
    "        a = u == u_sc1\n",
    "        if a.sum() != N:\n",
    "            f_sc1 += 1\n",
    "        \n",
    "        a = u == u_sclist\n",
    "        if a.sum() != N:\n",
    "            f_sclist += 1\n",
    "            \n",
    "        a = u == u_scstack\n",
    "        if a.sum() != N:\n",
    "            f_scstack += 1\n",
    "        \n",
    "        Itr += 1\n",
    "\n",
    "    print(f'Successive Cancellation {round(EbNo, ndigits=2)} with FER {f_sc1/Itr}, {Itr}')\n",
    "    print(f'Successive Cancellation List {round(EbNo, ndigits=2)} with FER {f_sclist/Itr}')\n",
    "    print(f'Successive Cancellation Stack {round(EbNo, ndigits=2)} with FER {f_scstack/Itr}')"
   ]
  },
  {
   "cell_type": "code",
   "execution_count": 19,
   "metadata": {},
   "outputs": [
    {
     "data": {
      "text/plain": [
       "(0.0008135750813575082, 0.0008135750813575082, 0.0020339377033937703)"
      ]
     },
     "execution_count": 19,
     "metadata": {},
     "output_type": "execute_result"
    }
   ],
   "source": [
    "f_scstack/Itr, f_sclist/Itr, f_sc1/Itr"
   ]
  },
  {
   "cell_type": "code",
   "execution_count": 78,
   "metadata": {},
   "outputs": [
    {
     "name": "stdout",
     "output_type": "stream",
     "text": [
      "Successive Cancellation 0.0 with FER 0.935, 200\n",
      "Successive Cancellation List 0.0 with FER 0.76\n",
      "Successive Cancellation Stack 0.0 with FER 0.76\n",
      "Successive Cancellation 0.2 with FER 0.89, 200\n",
      "Successive Cancellation List 0.2 with FER 0.665\n",
      "Successive Cancellation Stack 0.2 with FER 0.665\n",
      "Successive Cancellation 0.4 with FER 0.875, 200\n",
      "Successive Cancellation List 0.4 with FER 0.555\n",
      "Successive Cancellation Stack 0.4 with FER 0.55\n",
      "Successive Cancellation 0.6 with FER 0.81, 200\n",
      "Successive Cancellation List 0.6 with FER 0.46\n",
      "Successive Cancellation Stack 0.6 with FER 0.47\n",
      "Successive Cancellation 0.8 with FER 0.77, 200\n",
      "Successive Cancellation List 0.8 with FER 0.31\n",
      "Successive Cancellation Stack 0.8 with FER 0.305\n",
      "Successive Cancellation 1.0 with FER 0.63, 200\n",
      "Successive Cancellation List 1.0 with FER 0.235\n",
      "Successive Cancellation Stack 1.0 with FER 0.235\n",
      "Successive Cancellation 1.2 with FER 0.58, 200\n",
      "Successive Cancellation List 1.2 with FER 0.155\n",
      "Successive Cancellation Stack 1.2 with FER 0.155\n",
      "Successive Cancellation 1.4 with FER 0.485, 200\n",
      "Successive Cancellation List 1.4 with FER 0.13\n",
      "Successive Cancellation Stack 1.4 with FER 0.13\n",
      "Successive Cancellation 1.6 with FER 0.3946360153256705, 261\n",
      "Successive Cancellation List 1.6 with FER 0.07662835249042145\n",
      "Successive Cancellation Stack 1.6 with FER 0.07662835249042145\n",
      "Successive Cancellation 1.8 with FER 0.31217838765008576, 583\n",
      "Successive Cancellation List 1.8 with FER 0.03430531732418525\n",
      "Successive Cancellation Stack 1.8 with FER 0.03430531732418525\n",
      "Successive Cancellation 2.0 with FER 0.21731448763250882, 566\n",
      "Successive Cancellation List 2.0 with FER 0.0353356890459364\n",
      "Successive Cancellation Stack 2.0 with FER 0.0353356890459364\n",
      "Successive Cancellation 2.2 with FER 0.1731984829329962, 1582\n",
      "Successive Cancellation List 2.2 with FER 0.012642225031605562\n",
      "Successive Cancellation Stack 2.2 with FER 0.012642225031605562\n",
      "Successive Cancellation 2.4 with FER 0.1056176554886787, 6978\n",
      "Successive Cancellation List 2.4 with FER 0.002866150759529951\n",
      "Successive Cancellation Stack 2.4 with FER 0.002866150759529951\n",
      "Successive Cancellation 2.6 with FER 0.07194601567926963, 10077\n",
      "Successive Cancellation List 2.6 with FER 0.0019847176739108863\n",
      "Successive Cancellation Stack 2.6 with FER 0.0019847176739108863\n",
      "Successive Cancellation 2.8 with FER 0.04336994102094773, 19668\n",
      "Successive Cancellation List 2.8 with FER 0.001016880211511084\n",
      "Successive Cancellation Stack 2.8 with FER 0.0010677242220866383\n",
      "Successive Cancellation 3.0 with FER 0.027485031057059187, 107222\n",
      "Successive Cancellation List 3.0 with FER 0.00018652888399768705\n",
      "Successive Cancellation Stack 3.0 with FER 0.00018652888399768705\n"
     ]
    },
    {
     "ename": "KeyboardInterrupt",
     "evalue": "",
     "output_type": "error",
     "traceback": [
      "\u001b[0;31m---------------------------------------------------------------------------\u001b[0m",
      "\u001b[0;31mKeyboardInterrupt\u001b[0m                         Traceback (most recent call last)",
      "\u001b[0;32m<ipython-input-78-cc131be78b19>\u001b[0m in \u001b[0;36m<module>\u001b[0;34m\u001b[0m\n\u001b[1;32m     27\u001b[0m         \u001b[0mu_scstack\u001b[0m \u001b[0;34m=\u001b[0m \u001b[0mstack_structure\u001b[0m\u001b[0;34m.\u001b[0m\u001b[0mmetrics_sequences\u001b[0m\u001b[0;34m[\u001b[0m\u001b[0;36m0\u001b[0m\u001b[0;34m]\u001b[0m\u001b[0;34m[\u001b[0m\u001b[0;36m2\u001b[0m\u001b[0;34m]\u001b[0m\u001b[0;34m\u001b[0m\u001b[0;34m\u001b[0m\u001b[0m\n\u001b[1;32m     28\u001b[0m         \u001b[0mlist_decode\u001b[0m \u001b[0;34m=\u001b[0m \u001b[0mStructureForList\u001b[0m\u001b[0;34m(\u001b[0m\u001b[0mL\u001b[0m\u001b[0;34m,\u001b[0m \u001b[0mllrs\u001b[0m\u001b[0;34m)\u001b[0m\u001b[0;34m\u001b[0m\u001b[0;34m\u001b[0m\u001b[0m\n\u001b[0;32m---> 29\u001b[0;31m         \u001b[0mpolar_decode_sclist\u001b[0m\u001b[0;34m(\u001b[0m\u001b[0mfrozen_ind\u001b[0m\u001b[0;34m)\u001b[0m\u001b[0;34m\u001b[0m\u001b[0;34m\u001b[0m\u001b[0m\n\u001b[0m\u001b[1;32m     30\u001b[0m         \u001b[0mu_sclist\u001b[0m \u001b[0;34m=\u001b[0m \u001b[0mlist_decode\u001b[0m\u001b[0;34m.\u001b[0m\u001b[0mmetrics_sequences\u001b[0m\u001b[0;34m[\u001b[0m\u001b[0;36m0\u001b[0m\u001b[0;34m]\u001b[0m\u001b[0;34m[\u001b[0m\u001b[0;36m1\u001b[0m\u001b[0;34m]\u001b[0m\u001b[0;34m\u001b[0m\u001b[0;34m\u001b[0m\u001b[0m\n\u001b[1;32m     31\u001b[0m         \u001b[0;32mfor\u001b[0m \u001b[0mi\u001b[0m\u001b[0;34m,\u001b[0m \u001b[0melem\u001b[0m \u001b[0;32min\u001b[0m \u001b[0menumerate\u001b[0m\u001b[0;34m(\u001b[0m\u001b[0mlist_decode\u001b[0m\u001b[0;34m.\u001b[0m\u001b[0mmetrics_sequences\u001b[0m\u001b[0;34m)\u001b[0m\u001b[0;34m:\u001b[0m\u001b[0;34m\u001b[0m\u001b[0;34m\u001b[0m\u001b[0m\n",
      "\u001b[0;32m<ipython-input-10-e25577cc2dd9>\u001b[0m in \u001b[0;36mpolar_decode_sclist\u001b[0;34m(F)\u001b[0m\n\u001b[1;32m     30\u001b[0m \u001b[0;34m\u001b[0m\u001b[0m\n\u001b[1;32m     31\u001b[0m         \u001b[0mlist_decode\u001b[0m\u001b[0;34m.\u001b[0m\u001b[0mupdate_llr\u001b[0m\u001b[0;34m(\u001b[0m\u001b[0;34m'right'\u001b[0m\u001b[0;34m,\u001b[0m \u001b[0mdepth\u001b[0m\u001b[0;34m=\u001b[0m\u001b[0mN\u001b[0m\u001b[0;34m//\u001b[0m\u001b[0;36m2\u001b[0m\u001b[0;34m)\u001b[0m\u001b[0;34m\u001b[0m\u001b[0;34m\u001b[0m\u001b[0m\n\u001b[0;32m---> 32\u001b[0;31m         \u001b[0mpolar_decode_sclist\u001b[0m\u001b[0;34m(\u001b[0m\u001b[0mF\u001b[0m\u001b[0;34m[\u001b[0m\u001b[0mint\u001b[0m\u001b[0;34m(\u001b[0m\u001b[0mN\u001b[0m\u001b[0;34m/\u001b[0m\u001b[0;36m2\u001b[0m\u001b[0;34m)\u001b[0m\u001b[0;34m:\u001b[0m\u001b[0;34m]\u001b[0m\u001b[0;34m)\u001b[0m\u001b[0;34m\u001b[0m\u001b[0;34m\u001b[0m\u001b[0m\n\u001b[0m\u001b[1;32m     33\u001b[0m \u001b[0;31m#         print('3-0', list_decode.metrics_sequences)\u001b[0m\u001b[0;34m\u001b[0m\u001b[0;34m\u001b[0m\u001b[0;34m\u001b[0m\u001b[0m\n\u001b[1;32m     34\u001b[0m         \u001b[0mlist_decode\u001b[0m\u001b[0;34m.\u001b[0m\u001b[0mpop_llr\u001b[0m\u001b[0;34m(\u001b[0m\u001b[0;34m)\u001b[0m\u001b[0;34m\u001b[0m\u001b[0;34m\u001b[0m\u001b[0m\n",
      "\u001b[0;32m<ipython-input-10-e25577cc2dd9>\u001b[0m in \u001b[0;36mpolar_decode_sclist\u001b[0;34m(F)\u001b[0m\n\u001b[1;32m     30\u001b[0m \u001b[0;34m\u001b[0m\u001b[0m\n\u001b[1;32m     31\u001b[0m         \u001b[0mlist_decode\u001b[0m\u001b[0;34m.\u001b[0m\u001b[0mupdate_llr\u001b[0m\u001b[0;34m(\u001b[0m\u001b[0;34m'right'\u001b[0m\u001b[0;34m,\u001b[0m \u001b[0mdepth\u001b[0m\u001b[0;34m=\u001b[0m\u001b[0mN\u001b[0m\u001b[0;34m//\u001b[0m\u001b[0;36m2\u001b[0m\u001b[0;34m)\u001b[0m\u001b[0;34m\u001b[0m\u001b[0;34m\u001b[0m\u001b[0m\n\u001b[0;32m---> 32\u001b[0;31m         \u001b[0mpolar_decode_sclist\u001b[0m\u001b[0;34m(\u001b[0m\u001b[0mF\u001b[0m\u001b[0;34m[\u001b[0m\u001b[0mint\u001b[0m\u001b[0;34m(\u001b[0m\u001b[0mN\u001b[0m\u001b[0;34m/\u001b[0m\u001b[0;36m2\u001b[0m\u001b[0;34m)\u001b[0m\u001b[0;34m:\u001b[0m\u001b[0;34m]\u001b[0m\u001b[0;34m)\u001b[0m\u001b[0;34m\u001b[0m\u001b[0;34m\u001b[0m\u001b[0m\n\u001b[0m\u001b[1;32m     33\u001b[0m \u001b[0;31m#         print('3-0', list_decode.metrics_sequences)\u001b[0m\u001b[0;34m\u001b[0m\u001b[0;34m\u001b[0m\u001b[0;34m\u001b[0m\u001b[0m\n\u001b[1;32m     34\u001b[0m         \u001b[0mlist_decode\u001b[0m\u001b[0;34m.\u001b[0m\u001b[0mpop_llr\u001b[0m\u001b[0;34m(\u001b[0m\u001b[0;34m)\u001b[0m\u001b[0;34m\u001b[0m\u001b[0;34m\u001b[0m\u001b[0m\n",
      "\u001b[0;32m<ipython-input-10-e25577cc2dd9>\u001b[0m in \u001b[0;36mpolar_decode_sclist\u001b[0;34m(F)\u001b[0m\n\u001b[1;32m     24\u001b[0m \u001b[0;31m#         print('1', list_decode.metrics_sequences)\u001b[0m\u001b[0;34m\u001b[0m\u001b[0;34m\u001b[0m\u001b[0;34m\u001b[0m\u001b[0m\n\u001b[1;32m     25\u001b[0m \u001b[0;34m\u001b[0m\u001b[0m\n\u001b[0;32m---> 26\u001b[0;31m         \u001b[0mpolar_decode_sclist\u001b[0m\u001b[0;34m(\u001b[0m\u001b[0mF\u001b[0m\u001b[0;34m[\u001b[0m\u001b[0;34m:\u001b[0m\u001b[0mint\u001b[0m\u001b[0;34m(\u001b[0m\u001b[0mN\u001b[0m\u001b[0;34m/\u001b[0m\u001b[0;36m2\u001b[0m\u001b[0;34m)\u001b[0m\u001b[0;34m]\u001b[0m\u001b[0;34m)\u001b[0m\u001b[0;34m\u001b[0m\u001b[0;34m\u001b[0m\u001b[0m\n\u001b[0m\u001b[1;32m     27\u001b[0m         \u001b[0mlist_decode\u001b[0m\u001b[0;34m.\u001b[0m\u001b[0mpop_llr\u001b[0m\u001b[0;34m(\u001b[0m\u001b[0;34m)\u001b[0m\u001b[0;34m\u001b[0m\u001b[0;34m\u001b[0m\u001b[0m\n\u001b[1;32m     28\u001b[0m \u001b[0;34m\u001b[0m\u001b[0m\n",
      "\u001b[0;32m<ipython-input-10-e25577cc2dd9>\u001b[0m in \u001b[0;36mpolar_decode_sclist\u001b[0;34m(F)\u001b[0m\n\u001b[1;32m     24\u001b[0m \u001b[0;31m#         print('1', list_decode.metrics_sequences)\u001b[0m\u001b[0;34m\u001b[0m\u001b[0;34m\u001b[0m\u001b[0;34m\u001b[0m\u001b[0m\n\u001b[1;32m     25\u001b[0m \u001b[0;34m\u001b[0m\u001b[0m\n\u001b[0;32m---> 26\u001b[0;31m         \u001b[0mpolar_decode_sclist\u001b[0m\u001b[0;34m(\u001b[0m\u001b[0mF\u001b[0m\u001b[0;34m[\u001b[0m\u001b[0;34m:\u001b[0m\u001b[0mint\u001b[0m\u001b[0;34m(\u001b[0m\u001b[0mN\u001b[0m\u001b[0;34m/\u001b[0m\u001b[0;36m2\u001b[0m\u001b[0;34m)\u001b[0m\u001b[0;34m]\u001b[0m\u001b[0;34m)\u001b[0m\u001b[0;34m\u001b[0m\u001b[0;34m\u001b[0m\u001b[0m\n\u001b[0m\u001b[1;32m     27\u001b[0m         \u001b[0mlist_decode\u001b[0m\u001b[0;34m.\u001b[0m\u001b[0mpop_llr\u001b[0m\u001b[0;34m(\u001b[0m\u001b[0;34m)\u001b[0m\u001b[0;34m\u001b[0m\u001b[0;34m\u001b[0m\u001b[0m\n\u001b[1;32m     28\u001b[0m \u001b[0;34m\u001b[0m\u001b[0m\n",
      "\u001b[0;32m<ipython-input-10-e25577cc2dd9>\u001b[0m in \u001b[0;36mpolar_decode_sclist\u001b[0;34m(F)\u001b[0m\n\u001b[1;32m     24\u001b[0m \u001b[0;31m#         print('1', list_decode.metrics_sequences)\u001b[0m\u001b[0;34m\u001b[0m\u001b[0;34m\u001b[0m\u001b[0;34m\u001b[0m\u001b[0m\n\u001b[1;32m     25\u001b[0m \u001b[0;34m\u001b[0m\u001b[0m\n\u001b[0;32m---> 26\u001b[0;31m         \u001b[0mpolar_decode_sclist\u001b[0m\u001b[0;34m(\u001b[0m\u001b[0mF\u001b[0m\u001b[0;34m[\u001b[0m\u001b[0;34m:\u001b[0m\u001b[0mint\u001b[0m\u001b[0;34m(\u001b[0m\u001b[0mN\u001b[0m\u001b[0;34m/\u001b[0m\u001b[0;36m2\u001b[0m\u001b[0;34m)\u001b[0m\u001b[0;34m]\u001b[0m\u001b[0;34m)\u001b[0m\u001b[0;34m\u001b[0m\u001b[0;34m\u001b[0m\u001b[0m\n\u001b[0m\u001b[1;32m     27\u001b[0m         \u001b[0mlist_decode\u001b[0m\u001b[0;34m.\u001b[0m\u001b[0mpop_llr\u001b[0m\u001b[0;34m(\u001b[0m\u001b[0;34m)\u001b[0m\u001b[0;34m\u001b[0m\u001b[0;34m\u001b[0m\u001b[0m\n\u001b[1;32m     28\u001b[0m \u001b[0;34m\u001b[0m\u001b[0m\n",
      "\u001b[0;32m<ipython-input-10-e25577cc2dd9>\u001b[0m in \u001b[0;36mpolar_decode_sclist\u001b[0;34m(F)\u001b[0m\n\u001b[1;32m     30\u001b[0m \u001b[0;34m\u001b[0m\u001b[0m\n\u001b[1;32m     31\u001b[0m         \u001b[0mlist_decode\u001b[0m\u001b[0;34m.\u001b[0m\u001b[0mupdate_llr\u001b[0m\u001b[0;34m(\u001b[0m\u001b[0;34m'right'\u001b[0m\u001b[0;34m,\u001b[0m \u001b[0mdepth\u001b[0m\u001b[0;34m=\u001b[0m\u001b[0mN\u001b[0m\u001b[0;34m//\u001b[0m\u001b[0;36m2\u001b[0m\u001b[0;34m)\u001b[0m\u001b[0;34m\u001b[0m\u001b[0;34m\u001b[0m\u001b[0m\n\u001b[0;32m---> 32\u001b[0;31m         \u001b[0mpolar_decode_sclist\u001b[0m\u001b[0;34m(\u001b[0m\u001b[0mF\u001b[0m\u001b[0;34m[\u001b[0m\u001b[0mint\u001b[0m\u001b[0;34m(\u001b[0m\u001b[0mN\u001b[0m\u001b[0;34m/\u001b[0m\u001b[0;36m2\u001b[0m\u001b[0;34m)\u001b[0m\u001b[0;34m:\u001b[0m\u001b[0;34m]\u001b[0m\u001b[0;34m)\u001b[0m\u001b[0;34m\u001b[0m\u001b[0;34m\u001b[0m\u001b[0m\n\u001b[0m\u001b[1;32m     33\u001b[0m \u001b[0;31m#         print('3-0', list_decode.metrics_sequences)\u001b[0m\u001b[0;34m\u001b[0m\u001b[0;34m\u001b[0m\u001b[0;34m\u001b[0m\u001b[0m\n\u001b[1;32m     34\u001b[0m         \u001b[0mlist_decode\u001b[0m\u001b[0;34m.\u001b[0m\u001b[0mpop_llr\u001b[0m\u001b[0;34m(\u001b[0m\u001b[0;34m)\u001b[0m\u001b[0;34m\u001b[0m\u001b[0;34m\u001b[0m\u001b[0m\n",
      "\u001b[0;32m<ipython-input-10-e25577cc2dd9>\u001b[0m in \u001b[0;36mpolar_decode_sclist\u001b[0;34m(F)\u001b[0m\n\u001b[1;32m     24\u001b[0m \u001b[0;31m#         print('1', list_decode.metrics_sequences)\u001b[0m\u001b[0;34m\u001b[0m\u001b[0;34m\u001b[0m\u001b[0;34m\u001b[0m\u001b[0m\n\u001b[1;32m     25\u001b[0m \u001b[0;34m\u001b[0m\u001b[0m\n\u001b[0;32m---> 26\u001b[0;31m         \u001b[0mpolar_decode_sclist\u001b[0m\u001b[0;34m(\u001b[0m\u001b[0mF\u001b[0m\u001b[0;34m[\u001b[0m\u001b[0;34m:\u001b[0m\u001b[0mint\u001b[0m\u001b[0;34m(\u001b[0m\u001b[0mN\u001b[0m\u001b[0;34m/\u001b[0m\u001b[0;36m2\u001b[0m\u001b[0;34m)\u001b[0m\u001b[0;34m]\u001b[0m\u001b[0;34m)\u001b[0m\u001b[0;34m\u001b[0m\u001b[0;34m\u001b[0m\u001b[0m\n\u001b[0m\u001b[1;32m     27\u001b[0m         \u001b[0mlist_decode\u001b[0m\u001b[0;34m.\u001b[0m\u001b[0mpop_llr\u001b[0m\u001b[0;34m(\u001b[0m\u001b[0;34m)\u001b[0m\u001b[0;34m\u001b[0m\u001b[0;34m\u001b[0m\u001b[0m\n\u001b[1;32m     28\u001b[0m \u001b[0;34m\u001b[0m\u001b[0m\n",
      "\u001b[0;32m<ipython-input-10-e25577cc2dd9>\u001b[0m in \u001b[0;36mpolar_decode_sclist\u001b[0;34m(F)\u001b[0m\n\u001b[1;32m      6\u001b[0m \u001b[0;31m#         print(\"in N=2 left \", list_decode.metrics_sequences)\u001b[0m\u001b[0;34m\u001b[0m\u001b[0;34m\u001b[0m\u001b[0;34m\u001b[0m\u001b[0m\n\u001b[1;32m      7\u001b[0m         \u001b[0;32mfor\u001b[0m \u001b[0mi\u001b[0m \u001b[0;32min\u001b[0m \u001b[0mrange\u001b[0m\u001b[0;34m(\u001b[0m\u001b[0mL\u001b[0m\u001b[0;34m)\u001b[0m\u001b[0;34m:\u001b[0m\u001b[0;34m\u001b[0m\u001b[0;34m\u001b[0m\u001b[0m\n\u001b[0;32m----> 8\u001b[0;31m             \u001b[0mlist_decode\u001b[0m\u001b[0;34m.\u001b[0m\u001b[0madd_left\u001b[0m\u001b[0;34m(\u001b[0m\u001b[0mF\u001b[0m\u001b[0;34m[\u001b[0m\u001b[0;36m0\u001b[0m\u001b[0;34m]\u001b[0m\u001b[0;34m)\u001b[0m\u001b[0;34m\u001b[0m\u001b[0;34m\u001b[0m\u001b[0m\n\u001b[0m\u001b[1;32m      9\u001b[0m         \u001b[0mlist_decode\u001b[0m\u001b[0;34m.\u001b[0m\u001b[0mupdate\u001b[0m\u001b[0;34m(\u001b[0m\u001b[0;34m)\u001b[0m\u001b[0;34m\u001b[0m\u001b[0;34m\u001b[0m\u001b[0m\n\u001b[1;32m     10\u001b[0m         \u001b[0mlist_decode\u001b[0m\u001b[0;34m.\u001b[0m\u001b[0mpop_llr\u001b[0m\u001b[0;34m(\u001b[0m\u001b[0;34m)\u001b[0m\u001b[0;34m\u001b[0m\u001b[0;34m\u001b[0m\u001b[0m\n",
      "\u001b[0;32m<ipython-input-11-1b5241e9c0d4>\u001b[0m in \u001b[0;36madd_left\u001b[0;34m(self, F)\u001b[0m\n\u001b[1;32m     15\u001b[0m         \u001b[0mmetric_old\u001b[0m\u001b[0;34m,\u001b[0m \u001b[0mu_old\u001b[0m\u001b[0;34m,\u001b[0m \u001b[0mllr\u001b[0m\u001b[0;34m,\u001b[0m \u001b[0mx\u001b[0m \u001b[0;34m=\u001b[0m \u001b[0mself\u001b[0m\u001b[0;34m.\u001b[0m\u001b[0mmetrics_sequences\u001b[0m\u001b[0;34m.\u001b[0m\u001b[0mpop\u001b[0m\u001b[0;34m(\u001b[0m\u001b[0;36m0\u001b[0m\u001b[0;34m)\u001b[0m\u001b[0;34m\u001b[0m\u001b[0;34m\u001b[0m\u001b[0m\n\u001b[1;32m     16\u001b[0m         \u001b[0mLi\u001b[0m \u001b[0;34m=\u001b[0m \u001b[0mllr\u001b[0m\u001b[0;34m[\u001b[0m\u001b[0;34m-\u001b[0m\u001b[0;36m1\u001b[0m\u001b[0;34m]\u001b[0m\u001b[0;34m[\u001b[0m\u001b[0;36m0\u001b[0m\u001b[0;34m]\u001b[0m\u001b[0;34m\u001b[0m\u001b[0;34m\u001b[0m\u001b[0m\n\u001b[0;32m---> 17\u001b[0;31m         \u001b[0mcheck_res\u001b[0m \u001b[0;34m=\u001b[0m \u001b[0mcheck_list\u001b[0m\u001b[0;34m(\u001b[0m\u001b[0mLi\u001b[0m\u001b[0;34m,\u001b[0m \u001b[0mF\u001b[0m\u001b[0;34m)\u001b[0m\u001b[0;34m\u001b[0m\u001b[0;34m\u001b[0m\u001b[0m\n\u001b[0m\u001b[1;32m     18\u001b[0m         \u001b[0;32mfor\u001b[0m \u001b[0mbit\u001b[0m\u001b[0;34m,\u001b[0m \u001b[0mmetric\u001b[0m \u001b[0;32min\u001b[0m \u001b[0mcheck_res\u001b[0m\u001b[0;34m:\u001b[0m\u001b[0;34m\u001b[0m\u001b[0;34m\u001b[0m\u001b[0m\n\u001b[1;32m     19\u001b[0m             \u001b[0mu\u001b[0m \u001b[0;34m=\u001b[0m \u001b[0mu_old\u001b[0m\u001b[0;34m.\u001b[0m\u001b[0mcopy\u001b[0m\u001b[0;34m(\u001b[0m\u001b[0;34m)\u001b[0m\u001b[0;34m\u001b[0m\u001b[0;34m\u001b[0m\u001b[0m\n",
      "\u001b[0;32m<ipython-input-7-e647b6dda092>\u001b[0m in \u001b[0;36mcheck_list\u001b[0;34m(Li, F)\u001b[0m\n\u001b[1;32m      3\u001b[0m         \u001b[0;32mif\u001b[0m \u001b[0mLi\u001b[0m \u001b[0;34m>=\u001b[0m \u001b[0;36m0\u001b[0m\u001b[0;34m:\u001b[0m\u001b[0;34m\u001b[0m\u001b[0;34m\u001b[0m\u001b[0m\n\u001b[1;32m      4\u001b[0m             \u001b[0;32mreturn\u001b[0m \u001b[0;34m[\u001b[0m\u001b[0;34m[\u001b[0m\u001b[0;36m0\u001b[0m\u001b[0;34m,\u001b[0m \u001b[0;36m0\u001b[0m\u001b[0;34m]\u001b[0m\u001b[0;34m]\u001b[0m\u001b[0;34m\u001b[0m\u001b[0;34m\u001b[0m\u001b[0m\n\u001b[0;32m----> 5\u001b[0;31m         \u001b[0;32mreturn\u001b[0m \u001b[0;34m[\u001b[0m\u001b[0;34m[\u001b[0m\u001b[0;36m0\u001b[0m\u001b[0;34m,\u001b[0m \u001b[0mnp\u001b[0m\u001b[0;34m.\u001b[0m\u001b[0mabs\u001b[0m\u001b[0;34m(\u001b[0m\u001b[0mLi\u001b[0m\u001b[0;34m)\u001b[0m\u001b[0;34m]\u001b[0m\u001b[0;34m]\u001b[0m\u001b[0;34m\u001b[0m\u001b[0;34m\u001b[0m\u001b[0m\n\u001b[0m\u001b[1;32m      6\u001b[0m     \u001b[0;32mif\u001b[0m \u001b[0mLi\u001b[0m \u001b[0;34m>=\u001b[0m \u001b[0;36m0\u001b[0m\u001b[0;34m:\u001b[0m\u001b[0;34m\u001b[0m\u001b[0;34m\u001b[0m\u001b[0m\n\u001b[1;32m      7\u001b[0m         \u001b[0;32mreturn\u001b[0m \u001b[0;34m[\u001b[0m\u001b[0;34m[\u001b[0m\u001b[0;36m0\u001b[0m\u001b[0;34m,\u001b[0m \u001b[0;36m0\u001b[0m\u001b[0;34m]\u001b[0m\u001b[0;34m,\u001b[0m \u001b[0;34m[\u001b[0m\u001b[0;36m1\u001b[0m\u001b[0;34m,\u001b[0m \u001b[0mnp\u001b[0m\u001b[0;34m.\u001b[0m\u001b[0mabs\u001b[0m\u001b[0;34m(\u001b[0m\u001b[0mLi\u001b[0m\u001b[0;34m)\u001b[0m\u001b[0;34m]\u001b[0m\u001b[0;34m]\u001b[0m\u001b[0;34m\u001b[0m\u001b[0;34m\u001b[0m\u001b[0m\n",
      "\u001b[0;31mKeyboardInterrupt\u001b[0m: "
     ]
    }
   ],
   "source": [
    "#with CRC\n",
    "n = 8\n",
    "N = 2**n\n",
    "K = 2**(n-1)\n",
    "A = 6\n",
    "poly = [1, 0, 0, 0, 0, 1]\n",
    "frozen_ind = np.zeros(N)\n",
    "frozen_ind[rank[rank<N][:N-K-A]] = 1\n",
    "EbNoArray = np.arange(0, 5, 0.2)\n",
    "fe = 20\n",
    "L = 8\n",
    "D = N\n",
    "for EbNo in EbNoArray:\n",
    "    noiseVar = 10**(-EbNo/10)\n",
    "    f_sc1 = 0\n",
    "    f_sclist = 0\n",
    "    f_scstack = 0\n",
    "    Itr = 0\n",
    "    while min(f_sc1, f_sclist, f_scstack) < fe or Itr < 200:\n",
    "        u_K = np.random.randint(0, 2, size=K)\n",
    "        [x, u] = polar_encode_crc(u_K, frozen_ind, N, poly)\n",
    "        x_bpsk = 2 * x - 1\n",
    "        rc_bpsk = x_bpsk + np.random.normal(0, np.sqrt(noiseVar), N)\n",
    "        llrs = -4 * rc_bpsk / noiseVar\n",
    "        u_sc1, out_llr, x_sc = polar_decode_sc1(llrs, frozen_ind, [])\n",
    "        stack_structure = polar_decode_scs_crc(n, L, D, llrs, frozen_ind, poly)\n",
    "        u_scstack = stack_structure.metrics_sequences[0][2]\n",
    "        list_decode = StructureForList(L, llrs)\n",
    "        polar_decode_sclist(frozen_ind)\n",
    "        u_sclist = list_decode.metrics_sequences[0][1]\n",
    "        for i, elem in enumerate(list_decode.metrics_sequences):\n",
    "            if check_crc(np.array(elem[1])[frozen_ind==0], poly) == 0:\n",
    "                u_sclist = elem[1]\n",
    "                break\n",
    "        a = u == u_sc1\n",
    "        if a.sum() != N:\n",
    "            f_sc1 += 1\n",
    "        \n",
    "        a = u == u_sclist\n",
    "        if a.sum() != N:\n",
    "            f_sclist += 1\n",
    "            \n",
    "        a = u == u_scstack\n",
    "        if a.sum() != N:\n",
    "            f_scstack += 1\n",
    "        \n",
    "        Itr += 1\n",
    "\n",
    "    print(f'Successive Cancellation {round(EbNo, ndigits=2)} with FER {f_sc1/Itr}, {Itr}')\n",
    "    print(f'Successive Cancellation List {round(EbNo, ndigits=2)} with FER {f_sclist/Itr}')\n",
    "    print(f'Successive Cancellation Stack {round(EbNo, ndigits=2)} with FER {f_scstack/Itr}')"
   ]
  },
  {
   "cell_type": "code",
   "execution_count": 39,
   "metadata": {},
   "outputs": [],
   "source": [
    "def count_crc(u, poly):\n",
    "    N = len(poly)\n",
    "    T = np.zeros(N)\n",
    "    u_0 = np.concatenate((u, np.zeros(N)))\n",
    "    for i in range(len(u_0)):\n",
    "        T0 = T[0]\n",
    "        T = np.concatenate((T[1:], [u_0[i]])).astype(int)\n",
    "        if T0 == 1:\n",
    "            T = T ^ poly\n",
    "    return T"
   ]
  },
  {
   "cell_type": "code",
   "execution_count": 44,
   "metadata": {},
   "outputs": [],
   "source": [
    "def check_crc(u, poly):\n",
    "    N = len(poly)\n",
    "    T = np.zeros(N)\n",
    "    for i in range(len(u)):\n",
    "        T0 = T[0]\n",
    "        T = np.concatenate((T[1:], [u[i]])).astype(int)\n",
    "        if T0 == 1:\n",
    "            T = T ^ poly\n",
    "    return T.sum()"
   ]
  },
  {
   "cell_type": "code",
   "execution_count": 4,
   "metadata": {},
   "outputs": [],
   "source": [
    "def polar_encode(u, F, N):\n",
    "    c = np.zeros(N)\n",
    "    c[F==0] = u\n",
    "    x = polar_encode_recursive(c.copy())\n",
    "    return x, c"
   ]
  },
  {
   "cell_type": "code",
   "execution_count": 62,
   "metadata": {},
   "outputs": [],
   "source": [
    "def polar_encode_crc(u, F, N, poly):\n",
    "    c = np.zeros(N)\n",
    "    T = count_crc(u, poly)\n",
    "    u_T = np.concatenate((u, T))\n",
    "    c[F==0] = u_T\n",
    "    x = polar_encode_recursive(c.copy())\n",
    "    return x, c"
   ]
  },
  {
   "cell_type": "code",
   "execution_count": 5,
   "metadata": {},
   "outputs": [],
   "source": [
    "def polar_encode_recursive(c):\n",
    "    N = len(c)\n",
    "    c = c.astype(int)\n",
    "    if N == 2:\n",
    "        return np.array([c[0]^c[1], c[1]])\n",
    "    x1 = polar_encode_recursive(c[:int(N/2)])\n",
    "    x2 = polar_encode_recursive(c[int(N/2):])\n",
    "    return np.concatenate((x1^x2, x2))"
   ]
  },
  {
   "cell_type": "code",
   "execution_count": 6,
   "metadata": {},
   "outputs": [],
   "source": [
    "def f(a,b):\n",
    "    return np.sign(a*b)*min(np.abs(a), np.abs(b)) # np.min(np.abs(np.stack([a, b])), axis=0)\n",
    "\n",
    "def f1(a,b):\n",
    "    return np.sign(a*b)*np.min(np.abs(np.stack([a, b])), axis=0)\n",
    "\n",
    "def g(a,b,c):\n",
    "    if c == 0:\n",
    "        return a + b\n",
    "    else:\n",
    "        return b - a\n",
    "    \n",
    "def g1(a,b,c):\n",
    "    return b  + (1 - 2 * c) * a\n",
    "\n",
    "def f_N(llr):\n",
    "    N = len(llr)\n",
    "    llr_1 = llr[:int(N/2)]\n",
    "    llr_2 = llr[int(N/2):]\n",
    "    return [f(a,b) for a,b in zip(llr_1, llr_2)] # f(llr_1, llr_2) #\n",
    "\n",
    "def f_N1(llr):\n",
    "    N = len(llr)\n",
    "    llr_1 = llr[:int(N/2)]\n",
    "    llr_2 = llr[int(N/2):]\n",
    "    return f1(llr_1, llr_2) #\n",
    "\n",
    "\n",
    "def g_N(llr, u):\n",
    "    N = len(llr)\n",
    "    llr_1 = llr[:int(N/2)]\n",
    "    llr_2 = llr[int(N/2):]\n",
    "    return [g(a,b,c) for a,b,c in zip(llr_1, llr_2, u)]\n",
    "\n",
    "def g_N1(llr, u):\n",
    "    N = len(llr)\n",
    "    llr_1 = llr[:int(N/2)]\n",
    "    llr_2 = llr[int(N/2):]\n",
    "    return g1(llr_1, llr_2, u)\n",
    "\n",
    "def check(L, F):\n",
    "    if F == 1:\n",
    "        return 0\n",
    "    if L >= 0:\n",
    "        return 0\n",
    "    else:\n",
    "        return 1\n",
    "    \n",
    "def check1(L, F):\n",
    "    if F == 1 or L >= 0:\n",
    "        return 0\n",
    "    return 1"
   ]
  },
  {
   "cell_type": "code",
   "execution_count": 7,
   "metadata": {},
   "outputs": [],
   "source": [
    "def check_list(Li, F):\n",
    "    if F == 1:\n",
    "        if Li >= 0:\n",
    "            return [[0, 0]]\n",
    "        return [[0, np.abs(Li)]]\n",
    "    if Li >= 0:\n",
    "        return [[0, 0], [1, np.abs(Li)]]\n",
    "    return [[1, 0], [0, np.abs(Li)]]"
   ]
  },
  {
   "cell_type": "code",
   "execution_count": 8,
   "metadata": {},
   "outputs": [],
   "source": [
    "def polar_decode_sc1(in_llr, F, u):\n",
    "    n = len(in_llr) // 2\n",
    "    if n == 1:\n",
    "        L_1 = f(in_llr[0], in_llr[1])\n",
    "        u_1 = check1(L_1, F[0])\n",
    "        L_2 = g(in_llr[0], in_llr[1], u_1)\n",
    "        u_2 = check1(L_2, F[1])\n",
    "        u.append(u_1)\n",
    "        u.append(u_2)\n",
    "        return u, in_llr, np.array([u_1^u_2, u_2])\n",
    "    else:\n",
    "        u, out_llr1, x1 = polar_decode_sc1(f_N1(in_llr), F[:n], u)\n",
    "        u, out_llr2, x2 = polar_decode_sc1(g_N1(in_llr, x1), F[n:], u)\n",
    "        x = np.concatenate((np.bitwise_xor(x1, x2), x2))\n",
    "        out_llr = np.concatenate((out_llr1, out_llr2))\n",
    "    return u, out_llr, x"
   ]
  },
  {
   "cell_type": "code",
   "execution_count": 9,
   "metadata": {},
   "outputs": [],
   "source": [
    "def polar_decode_sc(in_llr, F, u):\n",
    "    N = len(in_llr)\n",
    "    if N == 2:\n",
    "        L_1 = f(in_llr[0], in_llr[1])\n",
    "        u_1 = check(L_1, F[0])\n",
    "        L_2 = g(in_llr[0], in_llr[1], u_1)\n",
    "        u_2 = check(L_2, F[1])\n",
    "        u.append(u_1)\n",
    "        u.append(u_2)\n",
    "        return in_llr, u, np.array([u_1^u_2, u_2])\n",
    "    else:\n",
    "        \n",
    "        out_llr1, u1, x1 = polar_decode_sc(f_N(in_llr), F[:int(N/2)], u)\n",
    "        out_llr2, u, x2 = polar_decode_sc(g_N(in_llr, x1), F[int(N/2):], u1)\n",
    "        x = np.concatenate((x1^x2, x2))\n",
    "        out_llr = np.concatenate((out_llr1, out_llr2))\n",
    "    return out_llr, u, x"
   ]
  },
  {
   "cell_type": "code",
   "execution_count": 10,
   "metadata": {},
   "outputs": [],
   "source": [
    "def polar_decode_sclist(F):\n",
    "    N = len(F)\n",
    "    if N == 2:\n",
    "        L = list_decode.length_list()\n",
    "        list_decode.update_llr('left')\n",
    "#         print(\"in N=2 left \", list_decode.metrics_sequences)\n",
    "        for i in range(L):\n",
    "            list_decode.add_left(F[0])\n",
    "        list_decode.update()\n",
    "        list_decode.pop_llr()\n",
    "        \n",
    "#         print(\"in N=2 between \", list_decode.metrics_sequences)\n",
    "        \n",
    "        L = list_decode.length_list()\n",
    "        list_decode.update_llr('right', depth=1)\n",
    "#         print(\"in N=2 right \", list_decode.metrics_sequences)\n",
    "        for i in  range(L):\n",
    "            list_decode.add_right(F[1])\n",
    "        list_decode.update()\n",
    "        list_decode.pop_llr()\n",
    "        \n",
    "    else:\n",
    "        list_decode.update_llr('left')\n",
    "#         print('1', list_decode.metrics_sequences)\n",
    "        \n",
    "        polar_decode_sclist(F[:int(N/2)])\n",
    "        list_decode.pop_llr()\n",
    "        \n",
    "#         print('2', list_decode.metrics_sequences)\n",
    "        \n",
    "        list_decode.update_llr('right', depth=N//2)\n",
    "        polar_decode_sclist(F[int(N/2):])\n",
    "#         print('3-0', list_decode.metrics_sequences)\n",
    "        list_decode.pop_llr()\n",
    "        \n",
    "#         print('3', list_decode.metrics_sequences)\n",
    "        list_decode.update_x(N//2)"
   ]
  },
  {
   "cell_type": "code",
   "execution_count": 11,
   "metadata": {},
   "outputs": [],
   "source": [
    "class StructureForList():\n",
    "    def __init__(self, L, in_llr):\n",
    "        self.L = L\n",
    "        self.metrics_sequences = [[0, [], [in_llr], np.array([])]]     \n",
    "    \n",
    "#     def add_first(self, Li, F):\n",
    "#         check_res = check_list(Li, F)\n",
    "#         for bit, metric in check_res:\n",
    "#             u = []\n",
    "#             u.append(bit)\n",
    "#             self.metrics_sequences.append([metric, u, llr])\n",
    "#         self.ind += 1\n",
    "    \n",
    "    def add_left(self, F):\n",
    "        metric_old, u_old, llr, x = self.metrics_sequences.pop(0)\n",
    "        Li = llr[-1][0]\n",
    "        check_res = check_list(Li, F)\n",
    "        for bit, metric in check_res:\n",
    "            u = u_old.copy()\n",
    "            u.append(bit)\n",
    "            x1 = np.concatenate((x,  [bit]))\n",
    "            self.metrics_sequences.append([metric_old+metric, u, llr.copy(), x1])\n",
    "#         self.ind += 1\n",
    "        \n",
    "    def add_right(self, F):\n",
    "        metric_old, u_old, llr, x = self.metrics_sequences.pop(0)\n",
    "        Li = llr[-1][0]\n",
    "        check_res = check_list(Li, F)\n",
    "        for bit, metric in check_res:\n",
    "            u = u_old.copy()\n",
    "            bit_prev = u[-1]\n",
    "            u.append(bit)\n",
    "            x1 = np.concatenate((x[:-1],  [bit_prev^bit, bit]))\n",
    "            self.metrics_sequences.append([metric_old+metric, u, llr.copy(), x1])\n",
    "#         self.ind += 1\n",
    "    \n",
    "    def update(self):\n",
    "        self.metrics_sequences = sorted(self.metrics_sequences, key=lambda metric: metric[0])\n",
    "        self.metrics_sequences = self.metrics_sequences[:self.L]\n",
    "        \n",
    "    def length_list(self):\n",
    "        return len(self.metrics_sequences)\n",
    "    \n",
    "    def pop_llr(self):\n",
    "        for i, elem in enumerate(self.metrics_sequences):\n",
    "#             print()\n",
    "#             print('=============================')\n",
    "#             print()\n",
    "#             print(f'pop1 {i}', self.metrics_sequences)\n",
    "#             print(f'pop1 {i}', self.metrics_sequences[i][2])\n",
    "            self.metrics_sequences[i][2].pop()\n",
    "#             print(f'pop2 {i}', self.metrics_sequences)\n",
    "#             print(f'pop2 {i}', self.metrics_sequences[i][2])\n",
    "    \n",
    "    def update_llr(self, l_r, depth=None):\n",
    "        length = self.length_list()\n",
    "        if l_r == 'left':\n",
    "            for i in range(length):\n",
    "                llr = self.metrics_sequences[i][2][-1]\n",
    "                self.metrics_sequences[i][2].append(f_N(llr))\n",
    "        elif l_r == 'right':\n",
    "            for i in range(length):\n",
    "                llr = self.metrics_sequences[i][2][-1]\n",
    "                self.metrics_sequences[i][2].append(g_N(llr, self.metrics_sequences[i][3][-depth:]))\n",
    "            \n",
    "    def update_x(self, depth):\n",
    "        for i, elem in enumerate(self.metrics_sequences):\n",
    "            x = elem[3].astype(int)\n",
    "            self.metrics_sequences[i][3] = np.concatenate((x[:-2*depth],x[-2*depth:-depth]^x[-depth:], x[-depth:]))\n"
   ]
  },
  {
   "cell_type": "code",
   "execution_count": 12,
   "metadata": {},
   "outputs": [],
   "source": [
    "def polar_decode_scs(n, L, D, in_llr, F):\n",
    "    current_layer = n\n",
    "    stack_decode = StructureForStack(L, D, in_llr, 2**n, F)\n",
    "    for i in range(n):\n",
    "        stack_decode.update_llr_top('left')\n",
    "    \n",
    "#     print('begin', stack_decode.metrics_sequences)\n",
    "    \n",
    "    stack_decode.add()\n",
    "    \n",
    "#     print('first add', stack_decode.metrics_sequences)\n",
    "    \n",
    "    path_length = stack_decode.get_pathL()\n",
    "    \n",
    "    while path_length < 2**n:        \n",
    "        stack_decode.calc_llr()\n",
    "        stack_decode.add()\n",
    "#         print('add', stack_decode.metrics_sequences)\n",
    "#         print(stack_decode.length_stack(), path_length, stack_decode.stack_length, stack_decode.length_counter)\n",
    "        path_length = stack_decode.get_pathL()\n",
    "    \n",
    "    for i in range(n):\n",
    "        stack_decode.update_x(2**i)\n",
    "        \n",
    "    return stack_decode"
   ]
  },
  {
   "cell_type": "code",
   "execution_count": 74,
   "metadata": {},
   "outputs": [],
   "source": [
    "def polar_decode_scs_crc(n, L, D, in_llr, F, poly):\n",
    "    current_layer = n\n",
    "    stack_decode = StructureForStack(L, D, in_llr, 2**n, F)\n",
    "    for i in range(n):\n",
    "        stack_decode.update_llr_top('left')\n",
    "    \n",
    "#     print('begin', stack_decode.metrics_sequences)\n",
    "    \n",
    "    stack_decode.add()\n",
    "    \n",
    "#     print('first add', stack_decode.metrics_sequences)\n",
    "    \n",
    "    path_length = stack_decode.get_pathL()\n",
    "    \n",
    "    while path_length < 2**n:        \n",
    "        stack_decode.calc_llr()\n",
    "        stack_decode.add()\n",
    "#         print('add', stack_decode.metrics_sequences)\n",
    "#         print(stack_decode.length_stack(), path_length, stack_decode.stack_length, stack_decode.length_counter)\n",
    "        path_length = stack_decode.get_pathL()\n",
    "\n",
    "    check = check_crc(np.array(stack_decode.metrics_sequences[0][2])[F == 0], poly)\n",
    "    best_metric_list = stack_decode.metrics_sequences[0]\n",
    "    ind = 0\n",
    "    while ind < L and check != 0:\n",
    "        stack_decode.metrics_sequences.pop(0)\n",
    "        stack_decode.stack_length -= 1\n",
    "        path_length = stack_decode.get_pathL()\n",
    "        while path_length < 2**n:        \n",
    "            stack_decode.calc_llr()\n",
    "            stack_decode.add()\n",
    "            path_length = stack_decode.get_pathL()\n",
    "        check = check_crc(np.array(stack_decode.metrics_sequences[0][2])[F == 0], poly)\n",
    "        ind += 1\n",
    "    if check != 0:\n",
    "        stack_decode.metrics_sequences.insert(0, best_metric_list)\n",
    "        \n",
    "    for i in range(n):\n",
    "        stack_decode.update_x(2**i)\n",
    "        \n",
    "    return stack_decode"
   ]
  },
  {
   "cell_type": "code",
   "execution_count": 59,
   "metadata": {},
   "outputs": [
    {
     "name": "stdout",
     "output_type": "stream",
     "text": [
      "0\n",
      "1\n",
      "2\n",
      "3\n"
     ]
    }
   ],
   "source": [
    "i = 0\n",
    "l = 1\n",
    "while i < 10 and l != 0:\n",
    "    print(i)\n",
    "    i += 1\n",
    "    if(i == 4):\n",
    "        l = 0"
   ]
  },
  {
   "cell_type": "code",
   "execution_count": 13,
   "metadata": {},
   "outputs": [],
   "source": [
    "class StructureForStack():\n",
    "    def __init__(self, L, D, in_llr, N, F):\n",
    "        self.L = L\n",
    "        self.D = D\n",
    "        self.F = F\n",
    "        self.metrics_sequences = [[0, 0, [], [in_llr], np.array([])]] \n",
    "        self.length_counter = np.zeros(N)\n",
    "        self.stack_length = 1\n",
    "        self.max_metric = 0\n",
    "\n",
    "    \n",
    "    def add(self):\n",
    "        metric_old, length_old, u_old, llr, x = self.metrics_sequences.pop(0)\n",
    "        self.stack_length -= 1\n",
    "        self.length_counter[length_old] += 1\n",
    "        if self.length_counter[length_old] == self.L: #>=\n",
    "            for i, elem in enumerate(self.metrics_sequences):\n",
    "                if elem[1] <= length_old:\n",
    "                    self.metrics_sequences.pop(i)\n",
    "                    self.stack_length -= 1\n",
    "        if(self.stack_length != 0):\n",
    "            self.max_metric = self.metrics_sequences[-1][0]\n",
    "        else:\n",
    "            self.max_metric = 0\n",
    "        Li = llr[-1][0]\n",
    "        check_res = check_list(Li, self.F[length_old])\n",
    "        for bit, metric in check_res: #rewrite\n",
    "            #print(bit, metric)\n",
    "            u = u_old.copy()\n",
    "            u.append(bit)\n",
    "            x1 = np.concatenate((x,  [bit]))\n",
    "            new_metric = metric_old+metric\n",
    "            #print('new_metric')\n",
    "            if new_metric < self.max_metric:\n",
    "                for i, elem in enumerate(self.metrics_sequences):\n",
    "                    if new_metric <= elem[0]:\n",
    "                        self.metrics_sequences.insert(i, [new_metric, length_old+1, u, llr.copy(), x1])\n",
    "                        self.stack_length += 1\n",
    "                        break\n",
    "            elif self.stack_length <= self.D:\n",
    "                #print('append')\n",
    "                self.metrics_sequences.append([new_metric, length_old+1, u, llr.copy(), x1])\n",
    "                self.max_metric = new_metric\n",
    "                self.stack_length += 1\n",
    "        while self.stack_length > self.D:\n",
    "            self.metrics_sequences.pop()\n",
    "            self.stack_length -= 1\n",
    "        self.max_metric = self.metrics_sequences[-1][0]\n",
    "            \n",
    "    def calc_llr(self):\n",
    "        pathL = self.get_pathL()\n",
    "        ind = pathL\n",
    "        layer = 0\n",
    "        self.pop_llr_top()\n",
    "        while ind % 2 == 0:\n",
    "#             print('in calc_llr', self.metrics_sequences[0])\n",
    "            self.update_x(2**layer)\n",
    "            self.pop_llr_top()\n",
    "            layer += 1\n",
    "            ind /= 2 \n",
    "        self.update_llr_top('right', depth = 2**layer)\n",
    "        for i in range(layer):\n",
    "            self.update_llr_top('left')\n",
    "        \n",
    "        \n",
    "    def length_stack(self):\n",
    "        return len(self.metrics_sequences)\n",
    "    \n",
    "    def get_pathL(self):\n",
    "        return self.metrics_sequences[0][1]\n",
    "    \n",
    "    def pop_llr_top(self):\n",
    "        self.metrics_sequences[0][3].pop()\n",
    "    \n",
    "    def update_llr_top(self, l_r, depth=None):\n",
    "        if l_r == 'left':\n",
    "            llr = self.metrics_sequences[0][3][-1]\n",
    "            self.metrics_sequences[0][3].append(f_N(llr))\n",
    "        elif l_r == 'right':\n",
    "            llr = self.metrics_sequences[0][3][-1]\n",
    "            self.metrics_sequences[0][3].append(g_N(llr, self.metrics_sequences[0][4][-depth:]))\n",
    "            \n",
    "    def update_x(self, depth):\n",
    "        x = self.metrics_sequences[0][4].copy().astype(int)\n",
    "#         print('update x|', x, depth)\n",
    "        self.metrics_sequences[0][4] = np.concatenate((x[:-2*depth],x[-2*depth:-depth]^x[-depth:], x[-depth:]))\n"
   ]
  },
  {
   "cell_type": "code",
   "execution_count": null,
   "metadata": {},
   "outputs": [],
   "source": []
  },
  {
   "cell_type": "code",
   "execution_count": 300,
   "metadata": {},
   "outputs": [
    {
     "name": "stdout",
     "output_type": "stream",
     "text": [
      "for n 7 N 128 L 8 D 512 EbNo 0\n"
     ]
    }
   ],
   "source": [
    "n = 7\n",
    "N = 2**n\n",
    "K = 2**(n-1)\n",
    "frozen_ind = np.zeros(N)\n",
    "frozen_ind[rank[rank<N][:N-K]] = 1\n",
    "\n",
    "L = 8\n",
    "D = L * N // 2\n",
    "EbNo  = 0\n",
    "noiseVar = 10**(-EbNo/10)\n",
    "u_K = np.random.randint(0, 2, size=K)\n",
    "[x, u] = polar_encode(u_K, frozen_ind, N)\n",
    "x_bpsk = 2 * x - 1\n",
    "rc_bpsk = x_bpsk + np.random.normal(0, np.sqrt(noiseVar), N)\n",
    "llrs = -4 * rc_bpsk / noiseVar\n",
    "\n",
    "print(f'for n {n} N {N} L {L} D {D} EbNo {EbNo}')"
   ]
  },
  {
   "cell_type": "code",
   "execution_count": 301,
   "metadata": {},
   "outputs": [
    {
     "name": "stdout",
     "output_type": "stream",
     "text": [
      "2.07 ms ± 37.8 µs per loop (mean ± std. dev. of 7 runs, 100 loops each)\n"
     ]
    }
   ],
   "source": [
    "%%timeit\n",
    "\n",
    "polar_decode_sc1(llrs, frozen_ind, [])"
   ]
  },
  {
   "cell_type": "code",
   "execution_count": 302,
   "metadata": {},
   "outputs": [
    {
     "name": "stdout",
     "output_type": "stream",
     "text": [
      "9.21 ms ± 357 µs per loop (mean ± std. dev. of 7 runs, 100 loops each)\n"
     ]
    }
   ],
   "source": [
    "%%timeit\n",
    "\n",
    "polar_decode_scs(n, L, D, llrs, frozen_ind)"
   ]
  },
  {
   "cell_type": "code",
   "execution_count": 304,
   "metadata": {},
   "outputs": [],
   "source": [
    "list_decode = StructureForList(L, llrs)"
   ]
  },
  {
   "cell_type": "code",
   "execution_count": 305,
   "metadata": {},
   "outputs": [
    {
     "name": "stdout",
     "output_type": "stream",
     "text": [
      "61 ms ± 15.2 ms per loop (mean ± std. dev. of 7 runs, 10 loops each)\n"
     ]
    }
   ],
   "source": [
    "%%timeit\n",
    "\n",
    "polar_decode_sclist(frozen_ind)"
   ]
  },
  {
   "cell_type": "code",
   "execution_count": 306,
   "metadata": {},
   "outputs": [
    {
     "name": "stdout",
     "output_type": "stream",
     "text": [
      "for n 7 N 128 L 8 D 512 EbNo 1\n"
     ]
    }
   ],
   "source": [
    "n = 7\n",
    "N = 2**n\n",
    "K = 2**(n-1)\n",
    "frozen_ind = np.zeros(N)\n",
    "frozen_ind[rank[rank<N][:N-K]] = 1\n",
    "\n",
    "L = 8\n",
    "D = L * N // 2\n",
    "EbNo  = 1\n",
    "noiseVar = 10**(-EbNo/10)\n",
    "u_K = np.random.randint(0, 2, size=K)\n",
    "[x, u] = polar_encode(u_K, frozen_ind, N)\n",
    "x_bpsk = 2 * x - 1\n",
    "rc_bpsk = x_bpsk + np.random.normal(0, np.sqrt(noiseVar), N)\n",
    "llrs = -4 * rc_bpsk / noiseVar\n",
    "\n",
    "print(f'for n {n} N {N} L {L} D {D} EbNo {EbNo}')"
   ]
  },
  {
   "cell_type": "code",
   "execution_count": 307,
   "metadata": {},
   "outputs": [
    {
     "name": "stdout",
     "output_type": "stream",
     "text": [
      "2.23 ms ± 63.4 µs per loop (mean ± std. dev. of 7 runs, 100 loops each)\n"
     ]
    }
   ],
   "source": [
    "%%timeit\n",
    "\n",
    "polar_decode_sc1(llrs, frozen_ind, [])"
   ]
  },
  {
   "cell_type": "code",
   "execution_count": 308,
   "metadata": {},
   "outputs": [
    {
     "name": "stdout",
     "output_type": "stream",
     "text": [
      "5.22 ms ± 80.6 µs per loop (mean ± std. dev. of 7 runs, 100 loops each)\n"
     ]
    }
   ],
   "source": [
    "%%timeit\n",
    "\n",
    "polar_decode_scs(n, L, D, llrs, frozen_ind)"
   ]
  },
  {
   "cell_type": "code",
   "execution_count": 309,
   "metadata": {},
   "outputs": [],
   "source": [
    "list_decode = StructureForList(L, llrs)"
   ]
  },
  {
   "cell_type": "code",
   "execution_count": 310,
   "metadata": {},
   "outputs": [
    {
     "name": "stdout",
     "output_type": "stream",
     "text": [
      "60.5 ms ± 13.3 ms per loop (mean ± std. dev. of 7 runs, 10 loops each)\n"
     ]
    }
   ],
   "source": [
    "%%timeit\n",
    "\n",
    "polar_decode_sclist(frozen_ind)"
   ]
  },
  {
   "cell_type": "code",
   "execution_count": 311,
   "metadata": {},
   "outputs": [
    {
     "name": "stdout",
     "output_type": "stream",
     "text": [
      "for n 7 N 128 L 8 D 512 EbNo 2\n"
     ]
    }
   ],
   "source": [
    "n = 7\n",
    "N = 2**n\n",
    "K = 2**(n-1)\n",
    "frozen_ind = np.zeros(N)\n",
    "frozen_ind[rank[rank<N][:N-K]] = 1\n",
    "\n",
    "L = 8\n",
    "D = L * N // 2\n",
    "EbNo  = 2\n",
    "noiseVar = 10**(-EbNo/10)\n",
    "u_K = np.random.randint(0, 2, size=K)\n",
    "[x, u] = polar_encode(u_K, frozen_ind, N)\n",
    "x_bpsk = 2 * x - 1\n",
    "rc_bpsk = x_bpsk + np.random.normal(0, np.sqrt(noiseVar), N)\n",
    "llrs = -4 * rc_bpsk / noiseVar\n",
    "\n",
    "print(f'for n {n} N {N} L {L} D {D} EbNo {EbNo}')"
   ]
  },
  {
   "cell_type": "code",
   "execution_count": 312,
   "metadata": {},
   "outputs": [
    {
     "name": "stdout",
     "output_type": "stream",
     "text": [
      "2.22 ms ± 73.4 µs per loop (mean ± std. dev. of 7 runs, 100 loops each)\n"
     ]
    }
   ],
   "source": [
    "%%timeit\n",
    "\n",
    "polar_decode_sc1(llrs, frozen_ind, [])"
   ]
  },
  {
   "cell_type": "code",
   "execution_count": 313,
   "metadata": {},
   "outputs": [
    {
     "name": "stdout",
     "output_type": "stream",
     "text": [
      "5.8 ms ± 216 µs per loop (mean ± std. dev. of 7 runs, 100 loops each)\n"
     ]
    }
   ],
   "source": [
    "%%timeit\n",
    "\n",
    "polar_decode_scs(n, L, D, llrs, frozen_ind)"
   ]
  },
  {
   "cell_type": "code",
   "execution_count": 314,
   "metadata": {},
   "outputs": [],
   "source": [
    "list_decode = StructureForList(L, llrs)"
   ]
  },
  {
   "cell_type": "code",
   "execution_count": 315,
   "metadata": {},
   "outputs": [
    {
     "name": "stdout",
     "output_type": "stream",
     "text": [
      "63 ms ± 14.2 ms per loop (mean ± std. dev. of 7 runs, 10 loops each)\n"
     ]
    }
   ],
   "source": [
    "%%timeit\n",
    "\n",
    "polar_decode_sclist(frozen_ind)"
   ]
  },
  {
   "cell_type": "code",
   "execution_count": 316,
   "metadata": {},
   "outputs": [
    {
     "name": "stdout",
     "output_type": "stream",
     "text": [
      "for n 7 N 128 L 8 D 512 EbNo 3\n"
     ]
    }
   ],
   "source": [
    "n = 7\n",
    "N = 2**n\n",
    "K = 2**(n-1)\n",
    "frozen_ind = np.zeros(N)\n",
    "frozen_ind[rank[rank<N][:N-K]] = 1\n",
    "\n",
    "L = 8\n",
    "D = L * N // 2\n",
    "EbNo  = 3\n",
    "noiseVar = 10**(-EbNo/10)\n",
    "u_K = np.random.randint(0, 2, size=K)\n",
    "[x, u] = polar_encode(u_K, frozen_ind, N)\n",
    "x_bpsk = 2 * x - 1\n",
    "rc_bpsk = x_bpsk + np.random.normal(0, np.sqrt(noiseVar), N)\n",
    "llrs = -4 * rc_bpsk / noiseVar\n",
    "\n",
    "print(f'for n {n} N {N} L {L} D {D} EbNo {EbNo}')"
   ]
  },
  {
   "cell_type": "code",
   "execution_count": 317,
   "metadata": {},
   "outputs": [
    {
     "name": "stdout",
     "output_type": "stream",
     "text": [
      "2.22 ms ± 85.4 µs per loop (mean ± std. dev. of 7 runs, 100 loops each)\n"
     ]
    }
   ],
   "source": [
    "%%timeit\n",
    "\n",
    "polar_decode_sc1(llrs, frozen_ind, [])"
   ]
  },
  {
   "cell_type": "code",
   "execution_count": 318,
   "metadata": {},
   "outputs": [
    {
     "name": "stdout",
     "output_type": "stream",
     "text": [
      "5.22 ms ± 176 µs per loop (mean ± std. dev. of 7 runs, 100 loops each)\n"
     ]
    }
   ],
   "source": [
    "%%timeit\n",
    "\n",
    "polar_decode_scs(n, L, D, llrs, frozen_ind)"
   ]
  },
  {
   "cell_type": "code",
   "execution_count": 319,
   "metadata": {},
   "outputs": [],
   "source": [
    "list_decode = StructureForList(L, llrs)"
   ]
  },
  {
   "cell_type": "code",
   "execution_count": 320,
   "metadata": {},
   "outputs": [
    {
     "name": "stdout",
     "output_type": "stream",
     "text": [
      "63.2 ms ± 14.2 ms per loop (mean ± std. dev. of 7 runs, 10 loops each)\n"
     ]
    }
   ],
   "source": [
    "%%timeit\n",
    "\n",
    "polar_decode_sclist(frozen_ind)"
   ]
  },
  {
   "cell_type": "code",
   "execution_count": 321,
   "metadata": {},
   "outputs": [
    {
     "name": "stdout",
     "output_type": "stream",
     "text": [
      "for n 7 N 128 L 8 D 512 EbNo 4\n"
     ]
    }
   ],
   "source": [
    "n = 7\n",
    "N = 2**n\n",
    "K = 2**(n-1)\n",
    "frozen_ind = np.zeros(N)\n",
    "frozen_ind[rank[rank<N][:N-K]] = 1\n",
    "\n",
    "L = 8\n",
    "D = L * N // 2\n",
    "EbNo  = 4\n",
    "noiseVar = 10**(-EbNo/10)\n",
    "u_K = np.random.randint(0, 2, size=K)\n",
    "[x, u] = polar_encode(u_K, frozen_ind, N)\n",
    "x_bpsk = 2 * x - 1\n",
    "rc_bpsk = x_bpsk + np.random.normal(0, np.sqrt(noiseVar), N)\n",
    "llrs = -4 * rc_bpsk / noiseVar\n",
    "\n",
    "print(f'for n {n} N {N} L {L} D {D} EbNo {EbNo}')"
   ]
  },
  {
   "cell_type": "code",
   "execution_count": 322,
   "metadata": {},
   "outputs": [
    {
     "name": "stdout",
     "output_type": "stream",
     "text": [
      "2.24 ms ± 60.5 µs per loop (mean ± std. dev. of 7 runs, 100 loops each)\n"
     ]
    }
   ],
   "source": [
    "%%timeit\n",
    "\n",
    "polar_decode_sc1(llrs, frozen_ind, [])"
   ]
  },
  {
   "cell_type": "code",
   "execution_count": 323,
   "metadata": {},
   "outputs": [
    {
     "name": "stdout",
     "output_type": "stream",
     "text": [
      "5.35 ms ± 221 µs per loop (mean ± std. dev. of 7 runs, 100 loops each)\n"
     ]
    }
   ],
   "source": [
    "%%timeit\n",
    "\n",
    "polar_decode_scs(n, L, D, llrs, frozen_ind)"
   ]
  },
  {
   "cell_type": "code",
   "execution_count": 324,
   "metadata": {},
   "outputs": [],
   "source": [
    "list_decode = StructureForList(L, llrs)"
   ]
  },
  {
   "cell_type": "code",
   "execution_count": 325,
   "metadata": {},
   "outputs": [
    {
     "name": "stdout",
     "output_type": "stream",
     "text": [
      "63.1 ms ± 14.5 ms per loop (mean ± std. dev. of 7 runs, 10 loops each)\n"
     ]
    }
   ],
   "source": [
    "%%timeit\n",
    "\n",
    "polar_decode_sclist(frozen_ind)"
   ]
  },
  {
   "cell_type": "code",
   "execution_count": 326,
   "metadata": {},
   "outputs": [
    {
     "name": "stdout",
     "output_type": "stream",
     "text": [
      "for n 7 N 128 L 8 D 512 EbNo 5\n"
     ]
    }
   ],
   "source": [
    "n = 7\n",
    "N = 2**n\n",
    "K = 2**(n-1)\n",
    "frozen_ind = np.zeros(N)\n",
    "frozen_ind[rank[rank<N][:N-K]] = 1\n",
    "\n",
    "L = 8\n",
    "D = L * N // 2\n",
    "EbNo  = 5\n",
    "noiseVar = 10**(-EbNo/10)\n",
    "u_K = np.random.randint(0, 2, size=K)\n",
    "[x, u] = polar_encode(u_K, frozen_ind, N)\n",
    "x_bpsk = 2 * x - 1\n",
    "rc_bpsk = x_bpsk + np.random.normal(0, np.sqrt(noiseVar), N)\n",
    "llrs = -4 * rc_bpsk / noiseVar\n",
    "\n",
    "print(f'for n {n} N {N} L {L} D {D} EbNo {EbNo}')"
   ]
  },
  {
   "cell_type": "code",
   "execution_count": 327,
   "metadata": {},
   "outputs": [
    {
     "name": "stdout",
     "output_type": "stream",
     "text": [
      "2.25 ms ± 111 µs per loop (mean ± std. dev. of 7 runs, 100 loops each)\n"
     ]
    }
   ],
   "source": [
    "%%timeit\n",
    "\n",
    "polar_decode_sc1(llrs, frozen_ind, [])"
   ]
  },
  {
   "cell_type": "code",
   "execution_count": 328,
   "metadata": {},
   "outputs": [
    {
     "name": "stdout",
     "output_type": "stream",
     "text": [
      "5.23 ms ± 117 µs per loop (mean ± std. dev. of 7 runs, 100 loops each)\n"
     ]
    }
   ],
   "source": [
    "%%timeit\n",
    "\n",
    "polar_decode_scs(n, L, D, llrs, frozen_ind)"
   ]
  },
  {
   "cell_type": "code",
   "execution_count": 329,
   "metadata": {},
   "outputs": [],
   "source": [
    "list_decode = StructureForList(L, llrs)"
   ]
  },
  {
   "cell_type": "code",
   "execution_count": 330,
   "metadata": {},
   "outputs": [
    {
     "name": "stdout",
     "output_type": "stream",
     "text": [
      "61.6 ms ± 13.4 ms per loop (mean ± std. dev. of 7 runs, 10 loops each)\n"
     ]
    }
   ],
   "source": [
    "%%timeit\n",
    "\n",
    "polar_decode_sclist(frozen_ind)"
   ]
  },
  {
   "cell_type": "code",
   "execution_count": 331,
   "metadata": {},
   "outputs": [
    {
     "name": "stdout",
     "output_type": "stream",
     "text": [
      "for n 9 N 512 L 8 D 2048 EbNo 5\n"
     ]
    }
   ],
   "source": [
    "n = 9\n",
    "N = 2**n\n",
    "K = 2**(n-1)\n",
    "frozen_ind = np.zeros(N)\n",
    "frozen_ind[rank[rank<N][:N-K]] = 1\n",
    "\n",
    "L = 8\n",
    "D = L * N // 2\n",
    "EbNo  = 5\n",
    "noiseVar = 10**(-EbNo/10)\n",
    "u_K = np.random.randint(0, 2, size=K)\n",
    "[x, u] = polar_encode(u_K, frozen_ind, N)\n",
    "x_bpsk = 2 * x - 1\n",
    "rc_bpsk = x_bpsk + np.random.normal(0, np.sqrt(noiseVar), N)\n",
    "llrs = -4 * rc_bpsk / noiseVar\n",
    "\n",
    "print(f'for n {n} N {N} L {L} D {D} EbNo {EbNo}')"
   ]
  },
  {
   "cell_type": "code",
   "execution_count": 332,
   "metadata": {},
   "outputs": [
    {
     "name": "stdout",
     "output_type": "stream",
     "text": [
      "8.81 ms ± 330 µs per loop (mean ± std. dev. of 7 runs, 100 loops each)\n"
     ]
    }
   ],
   "source": [
    "%%timeit\n",
    "\n",
    "polar_decode_sc1(llrs, frozen_ind, [])"
   ]
  },
  {
   "cell_type": "code",
   "execution_count": 333,
   "metadata": {},
   "outputs": [
    {
     "name": "stdout",
     "output_type": "stream",
     "text": [
      "26.9 ms ± 1.37 ms per loop (mean ± std. dev. of 7 runs, 10 loops each)\n"
     ]
    }
   ],
   "source": [
    "%%timeit\n",
    "\n",
    "polar_decode_scs(n, L, D, llrs, frozen_ind)"
   ]
  },
  {
   "cell_type": "code",
   "execution_count": 334,
   "metadata": {},
   "outputs": [],
   "source": [
    "list_decode = StructureForList(L, llrs)"
   ]
  },
  {
   "cell_type": "code",
   "execution_count": 335,
   "metadata": {},
   "outputs": [
    {
     "name": "stdout",
     "output_type": "stream",
     "text": [
      "622 ms ± 234 ms per loop (mean ± std. dev. of 7 runs, 10 loops each)\n"
     ]
    }
   ],
   "source": [
    "%%timeit\n",
    "\n",
    "polar_decode_sclist(frozen_ind)"
   ]
  },
  {
   "cell_type": "code",
   "execution_count": 336,
   "metadata": {},
   "outputs": [
    {
     "name": "stdout",
     "output_type": "stream",
     "text": [
      "for n 9 N 512 L 8 D 512 EbNo 5\n"
     ]
    }
   ],
   "source": [
    "n = 9\n",
    "N = 2**n\n",
    "K = 2**(n-1)\n",
    "frozen_ind = np.zeros(N)\n",
    "frozen_ind[rank[rank<N][:N-K]] = 1\n",
    "\n",
    "L = 8\n",
    "D = N\n",
    "EbNo  = 5\n",
    "noiseVar = 10**(-EbNo/10)\n",
    "u_K = np.random.randint(0, 2, size=K)\n",
    "[x, u] = polar_encode(u_K, frozen_ind, N)\n",
    "x_bpsk = 2 * x - 1\n",
    "rc_bpsk = x_bpsk + np.random.normal(0, np.sqrt(noiseVar), N)\n",
    "llrs = -4 * rc_bpsk / noiseVar\n",
    "\n",
    "print(f'for n {n} N {N} L {L} D {D} EbNo {EbNo}')"
   ]
  },
  {
   "cell_type": "code",
   "execution_count": 337,
   "metadata": {},
   "outputs": [
    {
     "name": "stdout",
     "output_type": "stream",
     "text": [
      "8.67 ms ± 312 µs per loop (mean ± std. dev. of 7 runs, 100 loops each)\n"
     ]
    }
   ],
   "source": [
    "%%timeit\n",
    "\n",
    "polar_decode_sc1(llrs, frozen_ind, [])"
   ]
  },
  {
   "cell_type": "code",
   "execution_count": 338,
   "metadata": {},
   "outputs": [
    {
     "name": "stdout",
     "output_type": "stream",
     "text": [
      "25.7 ms ± 1.76 ms per loop (mean ± std. dev. of 7 runs, 10 loops each)\n"
     ]
    }
   ],
   "source": [
    "%%timeit\n",
    "\n",
    "polar_decode_scs(n, L, D, llrs, frozen_ind)"
   ]
  },
  {
   "cell_type": "code",
   "execution_count": 339,
   "metadata": {},
   "outputs": [],
   "source": [
    "list_decode = StructureForList(L, llrs)"
   ]
  },
  {
   "cell_type": "code",
   "execution_count": 340,
   "metadata": {},
   "outputs": [
    {
     "name": "stdout",
     "output_type": "stream",
     "text": [
      "646 ms ± 231 ms per loop (mean ± std. dev. of 7 runs, 10 loops each)\n"
     ]
    }
   ],
   "source": [
    "%%timeit\n",
    "\n",
    "polar_decode_sclist(frozen_ind)"
   ]
  },
  {
   "cell_type": "code",
   "execution_count": 341,
   "metadata": {},
   "outputs": [
    {
     "name": "stdout",
     "output_type": "stream",
     "text": [
      "for n 9 N 512 L 8 D 256 EbNo 5\n"
     ]
    }
   ],
   "source": [
    "n = 9\n",
    "N = 2**n\n",
    "K = 2**(n-1)\n",
    "frozen_ind = np.zeros(N)\n",
    "frozen_ind[rank[rank<N][:N-K]] = 1\n",
    "\n",
    "L = 8\n",
    "D = N // 2\n",
    "EbNo  = 5\n",
    "noiseVar = 10**(-EbNo/10)\n",
    "u_K = np.random.randint(0, 2, size=K)\n",
    "[x, u] = polar_encode(u_K, frozen_ind, N)\n",
    "x_bpsk = 2 * x - 1\n",
    "rc_bpsk = x_bpsk + np.random.normal(0, np.sqrt(noiseVar), N)\n",
    "llrs = -4 * rc_bpsk / noiseVar\n",
    "\n",
    "print(f'for n {n} N {N} L {L} D {D} EbNo {EbNo}')"
   ]
  },
  {
   "cell_type": "code",
   "execution_count": 342,
   "metadata": {},
   "outputs": [
    {
     "name": "stdout",
     "output_type": "stream",
     "text": [
      "9.17 ms ± 260 µs per loop (mean ± std. dev. of 7 runs, 100 loops each)\n"
     ]
    }
   ],
   "source": [
    "%%timeit\n",
    "\n",
    "polar_decode_sc1(llrs, frozen_ind, [])"
   ]
  },
  {
   "cell_type": "code",
   "execution_count": 343,
   "metadata": {},
   "outputs": [
    {
     "name": "stdout",
     "output_type": "stream",
     "text": [
      "24.2 ms ± 836 µs per loop (mean ± std. dev. of 7 runs, 10 loops each)\n"
     ]
    }
   ],
   "source": [
    "%%timeit\n",
    "\n",
    "polar_decode_scs(n, L, D, llrs, frozen_ind)"
   ]
  },
  {
   "cell_type": "code",
   "execution_count": 344,
   "metadata": {},
   "outputs": [],
   "source": [
    "list_decode = StructureForList(L, llrs)"
   ]
  },
  {
   "cell_type": "code",
   "execution_count": 345,
   "metadata": {},
   "outputs": [
    {
     "name": "stdout",
     "output_type": "stream",
     "text": [
      "618 ms ± 179 ms per loop (mean ± std. dev. of 7 runs, 10 loops each)\n"
     ]
    }
   ],
   "source": [
    "%%timeit\n",
    "\n",
    "polar_decode_sclist(frozen_ind)"
   ]
  },
  {
   "cell_type": "code",
   "execution_count": null,
   "metadata": {},
   "outputs": [],
   "source": []
  },
  {
   "cell_type": "code",
   "execution_count": null,
   "metadata": {},
   "outputs": [],
   "source": []
  }
 ],
 "metadata": {
  "kernelspec": {
   "display_name": "Python 3",
   "language": "python",
   "name": "python3"
  },
  "language_info": {
   "codemirror_mode": {
    "name": "ipython",
    "version": 3
   },
   "file_extension": ".py",
   "mimetype": "text/x-python",
   "name": "python",
   "nbconvert_exporter": "python",
   "pygments_lexer": "ipython3",
   "version": "3.7.4"
  }
 },
 "nbformat": 4,
 "nbformat_minor": 2
}
